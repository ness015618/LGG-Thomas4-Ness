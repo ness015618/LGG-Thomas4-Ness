{
  "cells": [
    {
      "cell_type": "markdown",
      "metadata": {
        "id": "rru15J6cT0aF"
      },
      "source": [
        "# Your first scraper\n",
        "In this project, we will guide you step by step through the process of:\n",
        "\n",
        "1. creating a self-contained development environment.\n",
        "1. retrieving some information from an API (a website for computers)\n",
        "2. leveraging it to scrape a website that does not provide an API\n",
        "3. saving the output for later processing\n",
        "\n",
        "Here we query an API for a list of countries and their past leaders. We then extract and sanitize their short bio from Wikipedia. Finally, we save the data to disk.\n",
        "\n",
        "This task is often the first (coding) step of a datascience project and you will often come back to it in the future.\n",
        "\n",
        "You will study topics such as *scraping*, *data structures*, *regular expressions*, *concurrency* and *file handling*. We will point out useful resources at the appropriate time. \n",
        "\n",
        "Let's dive in!"
      ]
    },
    {
      "attachments": {},
      "cell_type": "markdown",
      "metadata": {},
      "source": [
        "## Creating a clean environment\n",
        "\n",
        "Use the [`venv`](https://docs.python.org/3/library/venv.html) command to create a new environment called `wikipedia_scraper_env`.\n",
        "\n",
        "Activate it.\n",
        "\n",
        "You will find more info about virtual environments in the course content and on the web."
      ]
    },
    {
      "cell_type": "markdown",
      "metadata": {
        "id": "48qvKH56a1Wy"
      },
      "source": [
        "## API Scraping\n",
        "\n",
        "### A simple API query\n",
        "You will start with the basics: how to do a simple request to an [API endpoint](../../01-TheField/02-Python/02-PythonAdvanced/05-Scraping/03-apis.ipynb).\n",
        "\n",
        "You will use the [requests](https://requests.readthedocs.io/en/latest/) external library through the `import` keyword.\n",
        "\n",
        "NOTE: external libraries need to be installed first. Check their documentation.\n",
        "\n",
        "Check the [Quickstart](https://requests.readthedocs.io/en/latest/user/quickstart/) section of the Requests documentation to:\n",
        "1. use the `get()` method to connect to this endpoint: https://country-leaders.onrender.com/status\n",
        "2. check if the `status_code` is equal to 200, which means OK.\n",
        "    * if OK, `print()` the `text`` of the response.\n",
        "    * if not, `print()` the `status_code`. \n",
        "\n",
        "Here is the signification of [HTTP status codes](https://en.wikipedia.org/wiki/List_of_HTTP_status_codes).\n"
      ]
    },
    {
      "cell_type": "code",
      "execution_count": 68,
      "metadata": {
        "id": "9baoMWgIcK3E"
      },
      "outputs": [
        {
          "name": "stdout",
          "output_type": "stream",
          "text": [
            "Text of the response : \"Alive\"\n"
          ]
        }
      ],
      "source": [
        "# import the requests library (1 line)\n",
        "import requests\n",
        "# assign the root url (without /status) to the root_url variable for ease of reference (1 line)\n",
        "root_url = \"https://country-leaders.onrender.com\"\n",
        "# assign the /status endpoint to another variable called status_url (1 line)\n",
        "status_url = root_url + \"/status\"\n",
        "# query the /status endpoint using the get() method and store it in the req variable (1 line)\n",
        "req = requests.get(status_url)\n",
        "# check the status_code using a condition and print appropriate messages (4 lines)\n",
        "if req.status_code == 200:\n",
        "    print(f\"Text of the response : {req.text}\") # content ?\n",
        "else:\n",
        "    print(f\"status_code = {req.status_code}\")"
      ]
    },
    {
      "cell_type": "markdown",
      "metadata": {
        "id": "TL72ovJUcZTA"
      },
      "source": [
        "### Dealing with JSON\n",
        "\n",
        "[JSON](https://quickref.me/json) is the preferred format to deal with data over the web. You cannot avoid it so you would better get acquainted.\n",
        "\n",
        "Connect to another endpoint called `/countries` but this time the API will return data in the JSON format. Check what to do in the Requests [Quickstart](https://requests.readthedocs.io/en/latest/user/quickstart/).\n"
      ]
    },
    {
      "cell_type": "code",
      "execution_count": 69,
      "metadata": {
        "id": "Y0DLiYCWcg5W"
      },
      "outputs": [
        {
          "name": "stdout",
          "output_type": "stream",
          "text": [
            "Status code : 403, countries : {'message': 'The cookie is missing'}\n"
          ]
        }
      ],
      "source": [
        "# Set the countries_url variable (1 line)\n",
        "countries_url = root_url + \"/countries\"\n",
        "# query the /countries endpoint using the get() method and store it in the req variable (1 line)\n",
        "req = requests.get(countries_url)\n",
        "# Get the JSON content and store it in the countries variable (1 line)\n",
        "countries = req.json()\n",
        "# display the request's status code and the countries variable (1 line)\n",
        "print(f\"Status code : {req.status_code}, countries : {countries}\")"
      ]
    },
    {
      "cell_type": "markdown",
      "metadata": {
        "id": "1x25JA6vaRBi"
      },
      "source": [
        "### Cookies anyone?\n",
        "\n",
        "It looks like the access to this API is restricted...\n",
        "Query the `/cookie` endpoint and extract the appropriate field to access your cookie.\n",
        "\n",
        "You will need to use this cookie in each of the following API requests."
      ]
    },
    {
      "cell_type": "code",
      "execution_count": 70,
      "metadata": {
        "id": "dTDwpN9Q3nk_"
      },
      "outputs": [
        {
          "name": "stdout",
          "output_type": "stream",
          "text": [
            "<RequestsCookieJar[<Cookie user_cookie=c822d631-3d30-4c47-8f38-29496c603c7d for country-leaders.onrender.com/>]>\n"
          ]
        }
      ],
      "source": [
        "# Set the cookie_url variable (1 line)\n",
        "cookie_url = root_url + \"/cookie\"\n",
        "# Query the enpoint, set the cookies variable and display it (2 lines)\n",
        "cookies = requests.get(cookie_url).cookies\n",
        "print(cookies)"
      ]
    },
    {
      "cell_type": "markdown",
      "metadata": {
        "id": "DHBNaFJo2M9e"
      },
      "source": [
        "Try to query the countries endpoint using the cookie, save the output and print it."
      ]
    },
    {
      "cell_type": "code",
      "execution_count": 71,
      "metadata": {
        "id": "9Y63sTXY7ppT"
      },
      "outputs": [
        {
          "name": "stdout",
          "output_type": "stream",
          "text": [
            "[\"be\",\"us\",\"ru\",\"fr\",\"ma\"]\n"
          ]
        }
      ],
      "source": [
        "# query the /countries endpoint, assign the output to the countries variable (1 line)\n",
        "countries = requests.get(countries_url, cookies=cookies)\n",
        "# display the countries variable (1 line)\n",
        "print(countries.text)"
      ]
    },
    {
      "cell_type": "markdown",
      "metadata": {
        "id": "I3HmuGTT9lU1"
      },
      "source": [
        "Chances are the cookie has expired... Thanksfully, you got a nice error message. For now, simply execute the last 2 cells quickly so you get a result."
      ]
    },
    {
      "cell_type": "markdown",
      "metadata": {
        "id": "Egv40GBV8rSH"
      },
      "source": [
        "### Getting the actual data from the API\n",
        "\n",
        "Query the `/leaders` endpoint."
      ]
    },
    {
      "cell_type": "code",
      "execution_count": 72,
      "metadata": {
        "id": "ZwLFqcBA8PaD"
      },
      "outputs": [
        {
          "name": "stdout",
          "output_type": "stream",
          "text": [
            "{'message': 'Please specify a country'}\n"
          ]
        }
      ],
      "source": [
        "# Set the leaders_url variable (1 line)\n",
        "leaders_url = root_url + \"/leaders\"\n",
        "# query the /leaders endpoint, assign the output to the leaders variable (1 line)\n",
        "leaders = requests.get(leaders_url, cookies=cookies).json()\n",
        "# display the leaders variable (1 line)\n",
        "print(leaders)"
      ]
    },
    {
      "cell_type": "markdown",
      "metadata": {
        "id": "1QyM7vWBAlY4"
      },
      "source": [
        "It looks like this endpoint requires additional information in order to return its result. Check the API [*documentation*](https://country-leaders.onrender.com/docs) in your web browser.\n",
        "\n",
        "Change the query to accept *parameters*. You should know where to find help by now."
      ]
    },
    {
      "cell_type": "code",
      "execution_count": 74,
      "metadata": {
        "id": "gIEFBhBeAkzf"
      },
      "outputs": [
        {
          "name": "stdout",
          "output_type": "stream",
          "text": [
            "[{'id': 'Q12978', 'first_name': 'Guy', 'last_name': 'Verhofstadt', 'birth_date': '1953-04-11', 'death_date': None, 'place_of_birth': 'Dendermonde', 'wikipedia_url': 'https://nl.wikipedia.org/wiki/Guy_Verhofstadt', 'start_mandate': '1999-07-12', 'end_mandate': '2008-03-20'}, {'id': 'Q12981', 'first_name': 'Yves', 'last_name': 'Leterme', 'birth_date': '1960-10-06', 'death_date': None, 'place_of_birth': 'Wervik', 'wikipedia_url': 'https://nl.wikipedia.org/wiki/Yves_Leterme', 'start_mandate': '2009-11-25', 'end_mandate': '2011-12-06'}, {'id': 'Q12983', 'first_name': 'Herman', 'last_name': 'None', 'birth_date': '1947-10-31', 'death_date': None, 'place_of_birth': 'Etterbeek', 'wikipedia_url': 'https://nl.wikipedia.org/wiki/Herman_Van_Rompuy', 'start_mandate': '2008-12-30', 'end_mandate': '2009-11-25'}, {'id': 'Q14989', 'first_name': 'Léon', 'last_name': 'Delacroix', 'birth_date': '1867-12-27', 'death_date': '1929-10-15', 'place_of_birth': 'Saint-Josse-ten-Noode', 'wikipedia_url': 'https://nl.wikipedia.org/wiki/L%C3%A9on_Delacroix', 'start_mandate': '1918-11-21', 'end_mandate': '1920-11-20'}, {'id': 'Q14990', 'first_name': 'Henry', 'last_name': 'Carton', 'birth_date': '1869-01-31', 'death_date': '1951-05-06', 'place_of_birth': 'Brussels', 'wikipedia_url': 'https://nl.wikipedia.org/wiki/Henri_Carton_de_Wiart', 'start_mandate': '1920-11-20', 'end_mandate': '1921-12-16'}, {'id': 'Q14991', 'first_name': 'Georges', 'last_name': 'Theunis', 'birth_date': '1873-02-28', 'death_date': '1966-01-04', 'place_of_birth': 'Montegnée', 'wikipedia_url': 'https://nl.wikipedia.org/wiki/Georges_Theunis', 'start_mandate': '1934-11-20', 'end_mandate': '1935-03-25'}, {'id': 'Q14992', 'first_name': 'Aloïs', 'last_name': 'Van de Vyvere', 'birth_date': '1871-06-08', 'death_date': '1961-10-22', 'place_of_birth': 'Tielt', 'wikipedia_url': 'https://nl.wikipedia.org/wiki/Aloys_Van_de_Vyvere', 'start_mandate': '1925-05-13', 'end_mandate': '1925-06-17'}, {'id': 'Q14993', 'first_name': 'Prosper', 'last_name': 'Poullet', 'birth_date': '1868-03-05', 'death_date': '1937-12-03', 'place_of_birth': 'Leuven', 'wikipedia_url': 'https://nl.wikipedia.org/wiki/Prosper_Poullet', 'start_mandate': '1925-06-17', 'end_mandate': '1926-05-20'}, {'id': 'Q14994', 'first_name': 'Henri', 'last_name': 'Jaspar', 'birth_date': '1870-07-28', 'death_date': '1939-02-15', 'place_of_birth': 'Schaerbeek - Schaarbeek', 'wikipedia_url': 'https://nl.wikipedia.org/wiki/Henri_Jaspar', 'start_mandate': '1926-05-20', 'end_mandate': '1931-06-06'}, {'id': 'Q14995', 'first_name': 'Jules', 'last_name': 'None', 'birth_date': '1862-12-03', 'death_date': '1934-07-15', 'place_of_birth': 'Ixelles - Elsene', 'wikipedia_url': 'https://nl.wikipedia.org/wiki/Jules_Renkin', 'start_mandate': '1931-06-06', 'end_mandate': '1932-10-22'}, {'id': 'Q14996', 'first_name': 'Paul', 'last_name': 'Van Zeeland', 'birth_date': '1893-11-11', 'death_date': '1973-09-22', 'place_of_birth': 'Soignies', 'wikipedia_url': 'https://nl.wikipedia.org/wiki/Paul_van_Zeeland', 'start_mandate': '1935-03-25', 'end_mandate': '1937-11-24'}, {'id': 'Q14997', 'first_name': 'Achille', 'last_name': 'Van Acker', 'birth_date': '1898-04-08', 'death_date': '1975-07-10', 'place_of_birth': 'Bruges', 'wikipedia_url': 'https://nl.wikipedia.org/wiki/Achiel_Van_Acker', 'start_mandate': '1954-04-23', 'end_mandate': '1958-06-26'}, {'id': 'Q14998', 'first_name': 'Camille', 'last_name': 'Huysmans', 'birth_date': '1871-05-26', 'death_date': '1968-02-25', 'place_of_birth': 'Bilzen', 'wikipedia_url': 'https://nl.wikipedia.org/wiki/Camille_Huysmans', 'start_mandate': '1946-08-03', 'end_mandate': '1947-03-20'}, {'id': 'Q14999', 'first_name': 'Gaston', 'last_name': 'Eyskens', 'birth_date': '1905-04-01', 'death_date': '1988-01-03', 'place_of_birth': 'Lier', 'wikipedia_url': 'https://nl.wikipedia.org/wiki/Gaston_Eyskens', 'start_mandate': '1968-07-17', 'end_mandate': '1973-01-26'}, {'id': 'Q15002', 'first_name': 'Leo', 'last_name': 'Tindemans', 'birth_date': '1922-04-16', 'death_date': '2014-12-26', 'place_of_birth': 'Zwijndrecht', 'wikipedia_url': 'https://nl.wikipedia.org/wiki/Leo_Tindemans', 'start_mandate': '1974-04-25', 'end_mandate': '1978-10-20'}, {'id': 'Q15048', 'first_name': 'Elio', 'last_name': 'Di Rupo', 'birth_date': '1951-07-18', 'death_date': None, 'place_of_birth': 'Morlanwelz', 'wikipedia_url': 'https://nl.wikipedia.org/wiki/Elio_Di_Rupo', 'start_mandate': '2011-12-06', 'end_mandate': '2014-10-11'}, {'id': 'Q15056', 'first_name': 'Jean-Luc', 'last_name': 'Dehaene', 'birth_date': '1940-08-07', 'death_date': '2014-05-15', 'place_of_birth': 'Montpellier', 'wikipedia_url': 'https://nl.wikipedia.org/wiki/Jean-Luc_Dehaene', 'start_mandate': '1992-03-07', 'end_mandate': '1999-07-12'}, {'id': 'Q15956', 'first_name': 'Frans', 'last_name': 'Schollaert', 'birth_date': '1851-08-19', 'death_date': '1917-06-29', 'place_of_birth': 'Wilsele', 'wikipedia_url': 'https://nl.wikipedia.org/wiki/Frans_Schollaert', 'start_mandate': '1908-01-09', 'end_mandate': '1911-06-17'}, {'id': 'Q143202', 'first_name': 'Pieter', 'last_name': 'Decker', 'birth_date': '1812-01-25', 'death_date': '1891-01-04', 'place_of_birth': 'Zele', 'wikipedia_url': 'https://nl.wikipedia.org/wiki/Pieter_de_Decker', 'start_mandate': '1855-03-30', 'end_mandate': '1857-11-09'}, {'id': 'Q155691', 'first_name': 'Paul-Henri', 'last_name': 'Spaak', 'birth_date': '1899-01-25', 'death_date': '1972-07-31', 'place_of_birth': 'Schaerbeek - Schaarbeek', 'wikipedia_url': 'https://nl.wikipedia.org/wiki/Paul-Henri_Spaak', 'start_mandate': '1947-03-20', 'end_mandate': '1949-08-11'}, {'id': 'Q202049', 'first_name': 'Auguste', 'last_name': 'Beernaert', 'birth_date': '1829-07-26', 'death_date': '1912-10-06', 'place_of_birth': 'Ostend', 'wikipedia_url': 'https://nl.wikipedia.org/wiki/Auguste_Beernaert', 'start_mandate': '1884-10-26', 'end_mandate': '1894-03-26'}, {'id': 'Q221781', 'first_name': 'Théodore', 'last_name': 'Lefèvre', 'birth_date': '1914-01-17', 'death_date': '1973-09-18', 'place_of_birth': 'Ghent', 'wikipedia_url': 'https://nl.wikipedia.org/wiki/Th%C3%A9o_Lef%C3%A8vre', 'start_mandate': '1961-04-25', 'end_mandate': '1965-07-28'}, {'id': 'Q250021', 'first_name': 'Paul', 'last_name': 'None', 'birth_date': '1919-05-22', 'death_date': '2001-01-09', 'place_of_birth': 'Forest', 'wikipedia_url': 'https://nl.wikipedia.org/wiki/Paul_Vanden_Boeynants', 'start_mandate': '1978-10-20', 'end_mandate': '1979-04-03'}, {'id': 'Q289570', 'first_name': 'Étienne', 'last_name': 'Gerlache', 'birth_date': '1785-12-26', 'death_date': '1871-02-10', 'place_of_birth': 'Château of Biourge', 'wikipedia_url': 'https://nl.wikipedia.org/wiki/Etienne_de_Gerlache', 'start_mandate': '1831-02-27', 'end_mandate': '1831-03-10'}, {'id': 'Q313809', 'first_name': 'Wilfried', 'last_name': 'Martens', 'birth_date': '1936-04-19', 'death_date': '2013-10-09', 'place_of_birth': 'Sleidinge', 'wikipedia_url': 'https://nl.wikipedia.org/wiki/Wilfried_Martens', 'start_mandate': '1981-12-17', 'end_mandate': '1992-03-07'}, {'id': 'Q349477', 'first_name': 'Mark', 'last_name': 'Eyskens', 'birth_date': '1933-04-29', 'death_date': None, 'place_of_birth': 'Leuven', 'wikipedia_url': 'https://nl.wikipedia.org/wiki/Mark_Eyskens', 'start_mandate': '1981-04-06', 'end_mandate': '1981-12-17'}, {'id': 'Q363942', 'first_name': 'Pierre', 'last_name': 'Harmel', 'birth_date': '1911-03-16', 'death_date': '2009-11-15', 'place_of_birth': 'Uccle', 'wikipedia_url': 'https://nl.wikipedia.org/wiki/Pierre_Harmel', 'start_mandate': '1965-07-28', 'end_mandate': '1966-03-19'}, {'id': 'Q442578', 'first_name': 'Hubert', 'last_name': 'Pierlot', 'birth_date': '1883-12-23', 'death_date': '1963-12-13', 'place_of_birth': 'Bertrix', 'wikipedia_url': 'https://nl.wikipedia.org/wiki/Hubert_Pierlot', 'start_mandate': '1939-02-22', 'end_mandate': '1945-02-12'}, {'id': 'Q446472', 'first_name': 'Jean-Baptiste', 'last_name': 'Nothomb', 'birth_date': '1805-07-03', 'death_date': '1881-09-16', 'place_of_birth': 'Messancy', 'wikipedia_url': 'https://nl.wikipedia.org/wiki/Jean-Baptiste_Nothomb', 'start_mandate': '1841-04-13', 'end_mandate': '1845-07-30'}, {'id': 'Q461745', 'first_name': 'Edmond', 'last_name': 'None', 'birth_date': '1915-04-18', 'death_date': '1997-06-15', 'place_of_birth': 'Lantremange', 'wikipedia_url': 'https://nl.wikipedia.org/wiki/Edmond_Leburton', 'start_mandate': '1973-01-26', 'end_mandate': '1974-04-25'}, {'id': 'Q461753', 'first_name': 'Jean', 'last_name': 'None', 'birth_date': '1900-04-10', 'death_date': '1977-10-11', 'place_of_birth': 'Frasnes-lez-Gosselies', 'wikipedia_url': 'https://nl.wikipedia.org/wiki/Jean_Duvieusart', 'start_mandate': '1950-06-08', 'end_mandate': '1950-08-16'}, {'id': 'Q468104', 'first_name': 'Joseph', 'last_name': 'Lebeau', 'birth_date': '1794-01-03', 'death_date': '1865-03-19', 'place_of_birth': 'Huy', 'wikipedia_url': 'https://nl.wikipedia.org/wiki/Joseph_Lebeau', 'start_mandate': '1840-04-18', 'end_mandate': '1841-04-13'}, {'id': 'Q468109', 'first_name': 'Charles', 'last_name': 'Rogier', 'birth_date': '1800-08-17', 'death_date': '1885-05-27', 'place_of_birth': 'Saint-Quentin', 'wikipedia_url': 'https://nl.wikipedia.org/wiki/Charles_Rogier', 'start_mandate': '1857-11-09', 'end_mandate': '1868-01-03'}, {'id': 'Q472257', 'first_name': 'Barthélemy', 'last_name': 'None', 'birth_date': '1794-02-26', 'death_date': '1874-08-24', 'place_of_birth': 'Kasteel van Schabroek', 'wikipedia_url': 'https://nl.wikipedia.org/wiki/Barth%C3%A9lemy_de_Theux_de_Meylandt', 'start_mandate': '1871-12-07', 'end_mandate': '1874-08-21'}, {'id': 'Q472276', 'first_name': 'Felix', 'last_name': 'None', 'birth_date': '1793-04-05', 'death_date': '1862-08-05', 'place_of_birth': 'Pittem', 'wikipedia_url': 'https://nl.wikipedia.org/wiki/Felix_de_M%C3%BBelenaere', 'start_mandate': '1831-07-24', 'end_mandate': '1832-10-20'}, {'id': 'Q476596', 'first_name': 'Alexander', 'last_name': 'De Croo', 'birth_date': '1975-11-03', 'death_date': None, 'place_of_birth': 'Vilvoorde', 'wikipedia_url': 'https://nl.wikipedia.org/wiki/Alexander_De_Croo', 'start_mandate': '2020-10-01', 'end_mandate': None}, {'id': 'Q527479', 'first_name': 'Henri', 'last_name': 'de Brouckère', 'birth_date': '1801-01-25', 'death_date': '1891-01-25', 'place_of_birth': 'Bruges', 'wikipedia_url': 'https://nl.wikipedia.org/wiki/Henri_de_Brouck%C3%A8re', 'start_mandate': '1852-10-31', 'end_mandate': '1855-03-30'}, {'id': 'Q533339', 'first_name': 'Albert', 'last_name': 'None', 'birth_date': '1790-05-26', 'death_date': '1873-05-05', 'place_of_birth': 'Tournai', 'wikipedia_url': 'https://nl.wikipedia.org/wiki/Albert_Goblet_d%27Alviella', 'start_mandate': '1832-10-20', 'end_mandate': '1834-08-04'}, {'id': 'Q546727', 'first_name': 'Sylvain', 'last_name': 'Weyer', 'birth_date': '1802-01-19', 'death_date': '1874-05-23', 'place_of_birth': 'Leuven', 'wikipedia_url': 'https://nl.wikipedia.org/wiki/Sylvain_Van_de_Weyer', 'start_mandate': '1845-07-30', 'end_mandate': '1846-03-31'}, {'id': 'Q569138', 'first_name': 'Jules', 'last_name': 'Burlet', 'birth_date': '1844-04-10', 'death_date': '1897-03-01', 'place_of_birth': 'Ixelles - Elsene', 'wikipedia_url': 'https://nl.wikipedia.org/wiki/Jules_de_Burlet', 'start_mandate': '1894-03-26', 'end_mandate': '1896-02-25'}, {'id': 'Q665955', 'first_name': 'Paul-Émile', 'last_name': 'None', 'birth_date': '1872-05-30', 'death_date': '1944-03-03', 'place_of_birth': 'Brussels metropolitan area', 'wikipedia_url': 'https://nl.wikipedia.org/wiki/Paul-Emile_Janson', 'start_mandate': '1937-11-24', 'end_mandate': '1938-05-15'}, {'id': 'Q678535', 'first_name': 'Jules', 'last_name': 'Malou', 'birth_date': '1810-10-19', 'death_date': '1886-07-11', 'place_of_birth': 'Ypres', 'wikipedia_url': 'https://nl.wikipedia.org/wiki/Jules_Malou', 'start_mandate': '1884-06-16', 'end_mandate': '1884-10-26'}, {'id': 'Q705103', 'first_name': 'Charles', 'last_name': 'Broqueville', 'birth_date': '1860-12-04', 'death_date': '1940-09-05', 'place_of_birth': 'Postel', 'wikipedia_url': 'https://nl.wikipedia.org/wiki/Charles_de_Broqueville', 'start_mandate': '1932-10-22', 'end_mandate': '1934-11-20'}, {'id': 'Q705111', 'first_name': 'Joseph', 'last_name': 'Pholien', 'birth_date': '1884-12-28', 'death_date': '1968-01-04', 'place_of_birth': 'Liège', 'wikipedia_url': 'https://nl.wikipedia.org/wiki/Joseph_Pholien', 'start_mandate': '1950-08-16', 'end_mandate': '1952-01-15'}, {'id': 'Q705128', 'first_name': 'Jean', 'last_name': 'Van Houtte', 'birth_date': '1907-03-17', 'death_date': '1991-05-23', 'place_of_birth': 'Ghent', 'wikipedia_url': 'https://nl.wikipedia.org/wiki/Jean_Van_Houtte', 'start_mandate': '1952-01-15', 'end_mandate': '1954-04-23'}, {'id': 'Q705791', 'first_name': 'Walthère', 'last_name': 'Frère', 'birth_date': '1812-04-22', 'death_date': '1896-01-02', 'place_of_birth': 'Liège', 'wikipedia_url': 'https://nl.wikipedia.org/wiki/Walth%C3%A8re_Fr%C3%A8re-Orban', 'start_mandate': '1878-06-19', 'end_mandate': '1884-06-16'}, {'id': 'Q719483', 'first_name': 'Gérard', 'last_name': 'Cooreman', 'birth_date': '1852-03-25', 'death_date': '1926-12-02', 'place_of_birth': 'Ghent', 'wikipedia_url': 'https://nl.wikipedia.org/wiki/Gerard_Cooreman', 'start_mandate': '1918-06-01', 'end_mandate': '1918-11-21'}, {'id': 'Q721772', 'first_name': 'Jules', 'last_name': 'Vandenpeereboom', 'birth_date': '1843-03-18', 'death_date': '1917-03-06', 'place_of_birth': 'Kortrijk', 'wikipedia_url': 'https://nl.wikipedia.org/wiki/Jules_Vandenpeereboom', 'start_mandate': '1899-01-24', 'end_mandate': '1899-08-05'}, {'id': 'Q721781', 'first_name': 'Paul', 'last_name': 'None', 'birth_date': '1843-05-13', 'death_date': '1913-09-09', 'place_of_birth': 'Ghent', 'wikipedia_url': 'https://nl.wikipedia.org/wiki/Paul_de_Smet_de_Naeyer', 'start_mandate': '1899-08-05', 'end_mandate': '1907-05-02'}, {'id': 'Q721798', 'first_name': 'Jules', 'last_name': 'Trooz', 'birth_date': '1857-02-21', 'death_date': '1907-12-31', 'place_of_birth': 'Leuven', 'wikipedia_url': 'https://nl.wikipedia.org/wiki/Jules_de_Trooz', 'start_mandate': '1907-05-02', 'end_mandate': '1907-12-31'}, {'id': 'Q725589', 'first_name': 'Jules', 'last_name': \"d'Anethan\", 'birth_date': '1803-04-23', 'death_date': '1888-10-08', 'place_of_birth': 'Brussels metropolitan area', 'wikipedia_url': 'https://nl.wikipedia.org/wiki/Jules_Joseph_d%27Anethan', 'start_mandate': '1870-07-02', 'end_mandate': '1871-12-07'}, {'id': 'Q950958', 'first_name': 'Charles', 'last_name': 'Michel', 'birth_date': '1975-12-21', 'death_date': None, 'place_of_birth': 'Namur', 'wikipedia_url': 'https://nl.wikipedia.org/wiki/Charles_Michel', 'start_mandate': '2014-10-11', 'end_mandate': '2019-10-27'}, {'id': 'Q18434995', 'first_name': 'Sophie', 'last_name': 'Wilmès', 'birth_date': '1975-01-15', 'death_date': None, 'place_of_birth': 'Ixelles - Elsene', 'wikipedia_url': 'https://nl.wikipedia.org/wiki/Sophie_Wilm%C3%A8s', 'start_mandate': '2019-10-27', 'end_mandate': '2020-10-01'}]\n"
          ]
        }
      ],
      "source": [
        "# query the /leaders endpoint using cookies and parameters (take any country in countries)\n",
        "# assign the output to the leaders variable (1 line)\n",
        "leaders = requests.get(leaders_url, cookies=cookies, params={'country':'be'}).json()\n",
        "# display the leaders variable (1 line)\n",
        "print(leaders)"
      ]
    },
    {
      "attachments": {},
      "cell_type": "markdown",
      "metadata": {
        "id": "uW3k5uquCirA"
      },
      "source": [
        "### A sneak peak at the data (finally)\n",
        "\n",
        "Look inside a few examples. Notice the dictionary keys available for each entry. You have your first example of *structured data*. This data was sanitized for your benefit, meaning it is readily exploitable without modification.\n",
        "\n",
        "You will also notice there is a Wikipedia link for each entry. You will need to extract additional information there. This will be a case of *semi-structured* data.\n",
        "\n",
        "The /countries endpoint returns a `list` of several country codes.\n",
        "\n",
        "You need to loop through this list and query the /leaders endpoint for each one. Save each `json` result in a dictionary called `leaders_per_country`."
      ]
    },
    {
      "cell_type": "code",
      "execution_count": 7,
      "metadata": {
        "id": "H8EdK2S9rvPJ"
      },
      "outputs": [],
      "source": [
        "# 4 lines\n",
        "leaders_per_country = {}\n",
        "for country in countries:\n",
        "    requests.get(leaders_url, cookies=cookies, params={'country':'be'}).json()\n",
        "\n",
        "#\n"
      ]
    },
    {
      "cell_type": "code",
      "execution_count": 8,
      "metadata": {},
      "outputs": [],
      "source": [
        "# or 1 line\n"
      ]
    },
    {
      "cell_type": "markdown",
      "metadata": {
        "id": "WsA2j7s_RMgy"
      },
      "source": [
        "It is finally time to create a `get_leaders()` function for the above code. You will build on it later-on. This function takes no parameter. Inside it, you will need to:\n",
        "1. define the urls\n",
        "2. get the cookies\n",
        "2. get the countries\n",
        "3. loop over them and save their leaders in a dictionary\n",
        "4. return the dictionary"
      ]
    },
    {
      "cell_type": "code",
      "execution_count": 9,
      "metadata": {
        "id": "p6C7BgWQMxV2"
      },
      "outputs": [],
      "source": [
        "# < 15 lines\n"
      ]
    },
    {
      "cell_type": "markdown",
      "metadata": {
        "id": "I76-InoKuuV8"
      },
      "source": [
        "Test your function, save the result in the `leaders_per_country` dictionary and check its ouput."
      ]
    },
    {
      "cell_type": "code",
      "execution_count": 10,
      "metadata": {
        "id": "eXwd8o7Gu8yG"
      },
      "outputs": [],
      "source": [
        "# 2 lines\n"
      ]
    },
    {
      "cell_type": "markdown",
      "metadata": {
        "id": "D1Fc1mHySn9g"
      },
      "source": [
        "## Extracting data from Wikipedia\n",
        "\n",
        "Query one of the leaders' Wikipedia urls and display its `text` (not JSON)."
      ]
    },
    {
      "cell_type": "code",
      "execution_count": 11,
      "metadata": {
        "id": "cEKKqyTHr3fD"
      },
      "outputs": [],
      "source": [
        "# 3 lines\n"
      ]
    },
    {
      "attachments": {},
      "cell_type": "markdown",
      "metadata": {
        "id": "ZlsqjiTYr8sK"
      },
      "source": [
        "Ouch! You get the raw HTML code of the webpage. If you try to deal with it without tools, you will be there all night. Instead, use the [beautiful soup 4](https://www.crummy.com/software/BeautifulSoup/bs4/doc/) *external* library. You will find more info about it [here](../../2.python/2.python_advanced/05.Scraping/1.beautifulsoup_basic.ipynb) and [here](../../2.python/2.python_advanced/05.Scraping/2.beautifulsoup_advanced.ipynb)\n",
        "\n",
        "Using the Quickstart section, start by importing the library and loading the output of your `get_text()` function.\n",
        "\n",
        "Use the `prettify()` function and print it to take a look. You will start the actual parsing in the next step."
      ]
    },
    {
      "cell_type": "code",
      "execution_count": 12,
      "metadata": {
        "id": "h79ahwJvr7p-"
      },
      "outputs": [],
      "source": [
        "# 3 lines\n"
      ]
    },
    {
      "cell_type": "markdown",
      "metadata": {
        "id": "aQsLjaig7_dY"
      },
      "source": [
        "That looks better but you need to extract the right part of the webpage: the text of the first paragraph.\n",
        "\n",
        "It is a bit tricky because Wikipedia pages slightly differ in structure from one language to the next. We cannot simply get the text for the first HTML paragraph.\n",
        "\n",
        "You will start by getting all the HTML paragraphs from the HTML source and saving them in the `paragraphs` variable.\n",
        "\n",
        "Use the documentation or google the appropriate keywords."
      ]
    },
    {
      "cell_type": "code",
      "execution_count": 13,
      "metadata": {
        "id": "Vs8HeBx19oyC"
      },
      "outputs": [],
      "source": [
        "# 2 lines\n"
      ]
    },
    {
      "cell_type": "markdown",
      "metadata": {
        "id": "3tlaL3aM9zoo"
      },
      "source": [
        "If you try different urls, you might find that the paragraph you want may be at a different index each time.\n",
        "\n",
        "That is where you need to be clever and ask yourself what would be a reliable way to identify the right index ie. which string matches only the first paragraph whatever the language...\n",
        "\n",
        "Spend a good 30 minutes on the problem and brainstorm with your fellow learners. If you come out empty handed, ask your coach.\n",
        "\n",
        "1. Loop over the HTML paragraphs\n",
        "2. When you have identified the correct one\n",
        "  * store the [text](https://www.crummy.com/software/BeautifulSoup/bs4/doc/#output) inside the `first_paragraph` variable\n",
        "  * exit the loop"
      ]
    },
    {
      "cell_type": "code",
      "execution_count": 14,
      "metadata": {
        "id": "0DduDXaQALau"
      },
      "outputs": [],
      "source": [
        "# <10 lines\n",
        "\n"
      ]
    },
    {
      "cell_type": "markdown",
      "metadata": {
        "id": "KFe-1LlIHBGm"
      },
      "source": [
        "At this stage, you can create a function to maintain consistency in your code. We will give you its *skeleton*, you will copy the code you wrote and make it work inside a function.\n",
        "\n",
        "Don't forget to test your function."
      ]
    },
    {
      "cell_type": "code",
      "execution_count": 15,
      "metadata": {
        "id": "wQORoweDHARO"
      },
      "outputs": [],
      "source": [
        "# 10 lines\n",
        "# def get_first_paragraph(wikipedia_url):\n",
        "#   print(wikipedia_url) # keep this for the rest of the notebook\n",
        "#   [insert your code]\n",
        "#   return first_paragraph"
      ]
    },
    {
      "cell_type": "code",
      "execution_count": 16,
      "metadata": {},
      "outputs": [],
      "source": [
        "# Test: 3 lines\n"
      ]
    },
    {
      "cell_type": "markdown",
      "metadata": {
        "id": "UtoM4dgsBVoD"
      },
      "source": [
        "### Regular expressions to the rescue\n",
        "\n",
        "Now that you have extracted the content of the first paragraph, the only thing that remains to finish your Wikipedia scraper is to sanitize the output.\n",
        "\n",
        "Indeed some Wikipedia references, HTML code, phonetic pronunciation etc. may linger. You might find *regular expressions* handy to get rid of them and obtain pristine text. You will find some useful documentation about regular expressions [here](../../2.python/2.python_advanced/03.Regex/regex.ipynb)\n",
        "\n",
        "Once you have one of your regex working online, try it in the cell below. \n",
        "\n",
        "Hints: \n",
        "* Check the `sub()` method documentation.\n",
        "* Make sure to test urls in different languages. Some may look good but other do not."
      ]
    },
    {
      "cell_type": "code",
      "execution_count": 17,
      "metadata": {
        "id": "7DHEAb6oBUxd"
      },
      "outputs": [],
      "source": [
        "# 3 lines\n",
        "\n"
      ]
    },
    {
      "cell_type": "markdown",
      "metadata": {
        "id": "QekqWs-4E0bK"
      },
      "source": [
        "Overwrite the `get_first_paragraph()` function by applying your regex to the first paragraph before returning it."
      ]
    },
    {
      "cell_type": "code",
      "execution_count": 18,
      "metadata": {
        "id": "voT-jzd7FMOc"
      },
      "outputs": [],
      "source": [
        "# 10 lines\n"
      ]
    },
    {
      "cell_type": "markdown",
      "metadata": {
        "id": "gyZkffTEFR0z"
      },
      "source": [
        "Come up with other regexes to capture other patterns and sanitize the outputs completely. Modify your `get_first_paragraph()` function accordingly."
      ]
    },
    {
      "cell_type": "code",
      "execution_count": 19,
      "metadata": {
        "id": "NOmkLM9JFRCp"
      },
      "outputs": [],
      "source": [
        "# < 20 lines\n"
      ]
    },
    {
      "cell_type": "markdown",
      "metadata": {
        "id": "VY7bM7Z1Nr0K"
      },
      "source": [
        "## Putting it all together\n",
        "\n",
        "Let's go back to your `get_leaders()` function and update it with an *inner* loop over each leader. You will query the url provided and extract the first paragraph using the `get_first_paragraph()` function you just finished. You will then update that `leader`'s dictionary and move on to the next one.\n",
        "\n",
        "Notice, the rest of the code should not change since you modify the leader's data one by one."
      ]
    },
    {
      "cell_type": "code",
      "execution_count": 20,
      "metadata": {},
      "outputs": [],
      "source": [
        "# < 20 lines"
      ]
    },
    {
      "cell_type": "code",
      "execution_count": 21,
      "metadata": {
        "id": "RICG4T3DPZ1b"
      },
      "outputs": [],
      "source": [
        "# Check the output of your function (2 lines)\n"
      ]
    },
    {
      "attachments": {},
      "cell_type": "markdown",
      "metadata": {
        "id": "8sCKxGrnJCxv"
      },
      "source": [
        "Does the function crash in the middle of the loop? Chances are the cookies have expired while looping over the leaders.\n",
        "\n",
        "Modify your function with an *exception* or check if the `status_code` is a cookie error. In either case, get new cookies and query the api again.\n",
        "\n",
        "If your code did not crash,"
      ]
    },
    {
      "cell_type": "code",
      "execution_count": 22,
      "metadata": {
        "id": "rgPd2dxgJiW1"
      },
      "outputs": [],
      "source": [
        "# < 25 lines\n",
        "\n"
      ]
    },
    {
      "cell_type": "markdown",
      "metadata": {
        "id": "3JvV-kPsKLl0"
      },
      "source": [
        "Check the output of your function again."
      ]
    },
    {
      "cell_type": "code",
      "execution_count": 23,
      "metadata": {
        "id": "mPXT-cxgKQof"
      },
      "outputs": [],
      "source": [
        "# Check the output of your function (1 line)\n"
      ]
    },
    {
      "cell_type": "markdown",
      "metadata": {
        "id": "Y9lgxh_NMSO3"
      },
      "source": [
        "Well done! It took a while however... Let's speed things up. The main *bottleneck* is the loop. We call on the Wikipedia website many times.\n",
        "\n",
        "You will use the same *session* to call all the wikipedia pages. Check the *Advanced Usage* section of the Requests module's documentation.\n",
        "\n",
        "Start by modifying the `get_first_paragraph()` function to accept a session parameter and adjust the `get()` method call."
      ]
    },
    {
      "cell_type": "code",
      "execution_count": 24,
      "metadata": {
        "id": "XTEVLIJ-V7z1"
      },
      "outputs": [],
      "source": [
        "# < 20 lines\n"
      ]
    },
    {
      "cell_type": "markdown",
      "metadata": {
        "id": "3gcgHMkeWK5-"
      },
      "source": [
        "Modify your `get_leaders()` function to make use of a single session for all the Wikipedia calls.\n",
        "1. create a `Session` object outside of the loop over countries.\n",
        "2. pass it to the `get_first_paragraph()` function as an argument."
      ]
    },
    {
      "cell_type": "code",
      "execution_count": 25,
      "metadata": {
        "id": "Kt6JtKDpOAIe"
      },
      "outputs": [],
      "source": [
        "# <25 lines\n"
      ]
    },
    {
      "cell_type": "markdown",
      "metadata": {
        "id": "fy09nMG9VOaI"
      },
      "source": [
        "Test your new functions.\n",
        "\n"
      ]
    },
    {
      "cell_type": "code",
      "execution_count": null,
      "metadata": {
        "id": "p5wFE6ivRf-Z"
      },
      "outputs": [],
      "source": []
    },
    {
      "attachments": {},
      "cell_type": "markdown",
      "metadata": {
        "id": "LtLTvw3wPqe0"
      },
      "source": [
        "## Saving your hard work\n",
        "\n",
        "The final step is to save the ``leaders_per_country`` dictionary in the `leaders.json` file using the [json](https://docs.python.org/3/library/json.html) module. Check out the `with` statement."
      ]
    },
    {
      "cell_type": "code",
      "execution_count": 26,
      "metadata": {
        "id": "pTNGKKrOjNDk"
      },
      "outputs": [],
      "source": [
        "# 3 lines\n"
      ]
    },
    {
      "attachments": {},
      "cell_type": "markdown",
      "metadata": {
        "id": "v7uf_kfGCWmM"
      },
      "source": [
        "Make sure the file can be read back. Write the code to read the file. And check the variables are the same."
      ]
    },
    {
      "cell_type": "code",
      "execution_count": 27,
      "metadata": {
        "id": "4VwNjBYyjPzs"
      },
      "outputs": [],
      "source": [
        "# 3 lines\n"
      ]
    },
    {
      "cell_type": "markdown",
      "metadata": {
        "id": "1fW_U7gXktyv"
      },
      "source": [
        "Make a function `save(leaders_per_country)` to call this code easily."
      ]
    },
    {
      "cell_type": "code",
      "execution_count": 28,
      "metadata": {
        "id": "EfknpnTljqUd"
      },
      "outputs": [],
      "source": [
        "# 3 lines\n"
      ]
    },
    {
      "cell_type": "code",
      "execution_count": 29,
      "metadata": {
        "id": "lWQ6bbn31cix"
      },
      "outputs": [],
      "source": [
        "# Call the function (1 line)\n"
      ]
    },
    {
      "cell_type": "markdown",
      "metadata": {
        "id": "W5W6nPihlQo9"
      },
      "source": [
        "## Tidy things up in a stand-alone python script\n",
        "\n",
        "Congratulations! You now have a working scraper! However, your code is scattered throughout this notebook along side the tutorials. Hardly production ready...\n",
        "\n",
        "Copy and paste what you need in a separate `leaders_scraper.py` file.\n",
        "Make sure it works by calling `python3 leaders_scraper.py`"
      ]
    },
    {
      "cell_type": "markdown",
      "metadata": {
        "id": "D0cvv193mlxY"
      },
      "source": [
        "## To go further\n",
        "\n",
        "If you want to practice scraping, you can read this section and tackle the exercise.\n",
        "\n",
        "You have noticed the API returns very partial results for country leaders. Many are missing. Overwrite the `get_leaders()` function to get its list from Wikipedia and extract their *personal details* from the frame on the side.\n",
        "\n",
        "Good luck!"
      ]
    }
  ],
  "metadata": {
    "colab": {
      "collapsed_sections": [],
      "provenance": [],
      "toc_visible": true
    },
    "kernelspec": {
      "display_name": "Python 3.9.10 ('base')",
      "language": "python",
      "name": "python3"
    },
    "language_info": {
      "codemirror_mode": {
        "name": "ipython",
        "version": 3
      },
      "file_extension": ".py",
      "mimetype": "text/x-python",
      "name": "python",
      "nbconvert_exporter": "python",
      "pygments_lexer": "ipython3",
      "version": "3.12.3"
    },
    "vscode": {
      "interpreter": {
        "hash": "c6e4e9f98eb68ad3b7c296f83d20e6de614cb42e90992a65aa266555a3137d0d"
      }
    }
  },
  "nbformat": 4,
  "nbformat_minor": 0
}
