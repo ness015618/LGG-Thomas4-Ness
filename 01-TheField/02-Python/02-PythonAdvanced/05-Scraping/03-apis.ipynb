{
 "cells": [
  {
   "cell_type": "markdown",
   "metadata": {},
   "source": [
    "### API (Application Programming Interface)"
   ]
  },
  {
   "cell_type": "markdown",
   "metadata": {},
   "source": [
    "An Application Programming Interface (API) is a set of tools and methods that allow different applications to interact with each other. While a **user interface** connects a person to a computer or a software, an **API** connects computers or software to each other.\n",
    "\n",
    "In the following example, the user interacts with Uber through an application (graphical user interface) while the Uber application interacts with other applications (Google Maps, banks, ...) through APIs.\n",
    "\n",
    "<img src=\"./assets/api.png\">\n",
    "\n",
    "A lot of companies and organizations provide APIs which allow your Python code to communicate with them (for example by retrieving data dynamically from their server). Those services can be free or paid and often require you to be authenticated before using it.\n",
    "\n",
    "### How to call an API\n",
    "\n",
    "Each API has its own specifications. Basically what we need to know is:\n",
    "\n",
    "- The **root URL**, defining the address of the API\n",
    "- A **method** (the most common are `GET` and `POST` but you can find much more [here](https://restfulapi.net/http-methods/))\n",
    "- An **endpoint**, whose role is comparable to a function in python\n",
    "- **Parameters**, that you can compare to the parameters of a function in python\n",
    "\n",
    "In practice, you can test an API in the browser directly (at least for `GET` methods). A useful tool for testing more complex API calls is [Postman](https://www.postman.com/).\n",
    "\n",
    "In our case, we will of course use Python and our famous `requests` library.\n"
   ]
  },
  {
   "cell_type": "markdown",
   "metadata": {},
   "source": [
    "### Let's practice\n",
    "\n",
    "We will use [newsapi](https://newsapi.org/) for getting the latest articles from the French newspaper [L'Equipe](https://www.lequipe.fr/).\n",
    "\n",
    "In our case the specifications are:\n",
    "\n",
    "- Root url: `https://newsapi.org/v2`\n",
    "- Method: `GET`\n",
    "- Endpoint: `top-headlines`\n",
    "- Parameters (key: value):\n",
    "    - `apiKey`: `73bbb95f8ecb49b499113a46481b4af1` (this credential key has been created for you)\n",
    "    - `sources`: `lequipe`\n",
    "\n",
    "In the browser we translate it like this: `{ROOT_URL}/{ENDPOINT}?{key}={value1}&{key2}={value2}`\n",
    "\n",
    "Can you create this URL in your browser and check what happens?"
   ]
  },
  {
   "cell_type": "code",
   "execution_count": null,
   "metadata": {},
   "outputs": [],
   "source": [
    "https://newsapi.org/v2/top-headlines?apiKey=73bbb95f8ecb49b499113a46481b4af1&sources=lequipe"
   ]
  },
  {
   "cell_type": "markdown",
   "metadata": {},
   "source": [
    "### And in Python?\n",
    "\n",
    "Let's build our call to the API by using `requests`."
   ]
  },
  {
   "cell_type": "code",
   "execution_count": 13,
   "metadata": {},
   "outputs": [
    {
     "data": {
      "text/plain": [
       "{'status': 'ok',\n",
       " 'totalResults': 10,\n",
       " 'articles': [{'source': {'id': 'lequipe', 'name': \"L'equipe\"},\n",
       "   'author': \"L'EQUIPE\",\n",
       "   'title': 'Marseille dans un nouveau monde après avoir intégré la Ligue Magnus',\n",
       "   'description': 'Les Spartiates de Marseille ont rejoint la Ligue Magnus, jeudi. Une grande première. Le club avancera avec prudence. Il est solide, en termes de structures et de finances, mais irrégulier sur le plan sportif. Objectifs\\xa0: se renforcer et assurer le maintien.',\n",
       "   'url': 'https://www.lequipe.fr/Hockey-sur-glace/Actualites/Marseille-dans-un-nouveau-monde-apres-avoir-integre-la-ligue-magnus/1401523',\n",
       "   'urlToImage': 'https://medias.lequipe.fr/img-photo-jpg/les-marseillais-vont-decouvrir-la-ligue-magnus-c-matteoli-mouhanad-spartiates-de-marseille-d-r/1500000001796012/101:283,1675:1332-640-427-75/ee3a9.jpg',\n",
       "   'publishedAt': '2023-06-08T14:48:14+00:00',\n",
       "   'content': 'La NHL a ses franchises de Californie et de Floride, mais la Ligue Magnus a aussi son coin de mer et de soleil. Après Nice (en 2016) et Anglet, au tour de Marseille de rejoindre le plus haut niveau d… [+4342 chars]'},\n",
       "  {'source': {'id': 'lequipe', 'name': \"L'equipe\"},\n",
       "   'author': \"L'EQUIPE\",\n",
       "   'title': 'Manchester City au complet pour la finale de la Ligue des champions',\n",
       "   'description': \"Manchester City a dévoilé un groupe de vingt-trois joueurs pour la finale de Ligue des champions samedi contre l'Inter Milan, à Istanbul (21\\xa0heures).\",\n",
       "   'url': 'https://www.lequipe.fr/Football/Actualites/Manchester-city-au-complet-pour-la-finale-de-la-ligue-des-champions/1401522',\n",
       "   'urlToImage': 'https://medias.lequipe.fr/img-photo-jpg/kyle-walker-est-present-dans-le-groupe-de-manchester-city-presse-sports/1500000001796010/0:0,1995:1330-640-427-75/57f76.jpg',\n",
       "   'publishedAt': '2023-06-08T14:46:51+00:00',\n",
       "   'content': \"L'entraîneur de Manchester City Pep Guardiola devrait pouvoir compter sur toutes ses forces vives pour la finale de la Ligue des champions samedi à Istanbul, contre l'Inter Milan (21\\xa0heures). Le club… [+235 chars]\"},\n",
       "  {'source': {'id': 'lequipe', 'name': \"L'equipe\"},\n",
       "   'author': \"L'EQUIPE\",\n",
       "   'title': 'Jonas Vingegaard remporte en solitaire la cinquième étape du Dauphiné et enfile le maillot jaune',\n",
       "   'description': 'Impressionnant sur les pentes de la Côte de Thésy, Jonas Vingegaard a remporté la cinquième étape du Critérium du Dauphiné et prend la tête du classement général.',\n",
       "   'url': 'https://www.lequipe.fr/Cyclisme-sur-route/Actualites/Jonas-vingegaard-remporte-en-solitaire-la-cinquieme-etape-du-dauphine-et-enfile-le-maillot-jaune/1401512',\n",
       "   'urlToImage': 'https://medias.lequipe.fr/img-photo-jpg/jonas-vingegaard-prend-deja-le-large-au-classement-general-b-papon-l-equipe/1500000001796009/0:0,1996:1331-640-427-75/7f102.jpg',\n",
       "   'publishedAt': '2023-06-08T14:21:08+00:00',\n",
       "   'content': \"Jonas Vingegaard (Jumbo-Visma) n'aura pas attendu la haute montagne. À la veille du triptyque alpestre qui clôturera ce Critérium du Dauphiné 2023, le dernier vainqueur du Tour de France s'est déjà e… [+2014 chars]\"},\n",
       "  {'source': {'id': 'lequipe', 'name': \"L'equipe\"},\n",
       "   'author': \"L'EQUIPE\",\n",
       "   'title': 'Jacobus Van Tonder (Clermont) signe à Perpignan',\n",
       "   'description': \"Le deuxième ou troisième-ligne sud-africain de Clermont Jacobus Van Tonder s'est engagé avec l'USAP pour les deux prochaines saisons.\",\n",
       "   'url': 'https://www.lequipe.fr/Rugby/Actualites/Jacobus-van-tonder-clermont-signe-a-perpignan/1401509',\n",
       "   'urlToImage': 'https://medias.lequipe.fr/img-photo-jpg/jacobus-van-tonder-plaque-le-rochelais-jules-favre-n-luttiau-l-equipe/1500000001795955/0:0,1998:1332-640-427-75/86084.jpg',\n",
       "   'publishedAt': '2023-06-08T14:12:49+00:00',\n",
       "   'content': \"Comme nous vous l'annoncions, Jacobus Van Tonder s'est engagé avec Perpignan. Le club catalan a officialisé la signature du deuxième ou troisième-ligne de Clermont ce jeudi. Le Sud-Africain (25 ans) … [+545 chars]\"},\n",
       "  {'source': {'id': 'lequipe', 'name': \"L'equipe\"},\n",
       "   'author': \"L'EQUIPE\",\n",
       "   'title': \"L'UEFA a donné des consignes de sécurité aux supporters de Manchester City avant la finale de la Ligue des ...\",\n",
       "   'description': \"Selon le «\\xa0Daily Mail\\xa0», l'UEFA a envoyé ses consignes de sécurité aux supporters de Manchester City avant la finale de Ligue des champions qui opposera les Citizens à l'Inter, samedi, à Istanbul (21\\xa0heures). Un an après les incidents du Stade de France, l'in…\",\n",
       "   'url': 'https://www.lequipe.fr/Football/Actualites/L-uefa-a-donne-des-consignes-de-securite-aux-supporters-de-manchester-city-avant-la-finale-de-la-ligue-des-champions/1401508',\n",
       "   'urlToImage': 'https://medias.lequipe.fr/img-photo-jpg/les-supporters-de-manchester-city-devront-arriver-au-stade-avec-neuf-heures-d-avance-selon-le-daily-/1500000001795954/0:0,1997:1332-640-427-75/21760.jpg',\n",
       "   'publishedAt': '2023-06-08T14:11:05+00:00',\n",
       "   'content': \"Un an après les incidents au Stade de France et le traumatisme de milliers de supporters anglais, l'UEFA voudrait s'assurer que de tels dysfonctionnements ne se reproduisent plus.\\xa0Le 28\\xa0mai 2022, l'a… [+485 chars]\"},\n",
       "  {'source': {'id': 'lequipe', 'name': \"L'equipe\"},\n",
       "   'author': \"L'EQUIPE\",\n",
       "   'title': 'Transferts\\xa0: Crystal Palace recrute Jefferson Lerma',\n",
       "   'description': 'Le milieu international colombien Jefferson Lerma, libre de tout contrat après cinq ans à Bournemouth, a signé trois ans à Crystal Palace, ce jeudi.',\n",
       "   'url': 'https://www.lequipe.fr/Football/Actualites/Transferts-crystal-palace-recrute-jefferson-lerma/1401507',\n",
       "   'urlToImage': 'https://medias.lequipe.fr/img-photo-jpg/jefferson-lerma-j-feeney-offside-presse-sports/1500000001795952/0:0,1426:1426-640-640-75/fdf8d.jpg',\n",
       "   'publishedAt': '2023-06-08T14:09:07+00:00',\n",
       "   'content': \"Libre après cinq ans à Bournemouth, qui avait dépensé plus de 30\\xa0millions d'euros pour se l'offrir en 2018, le milieu international colombien Jefferson Lerma s'est engagé ce jeudi avec Crystal Palace… [+77 chars]\"},\n",
       "  {'source': {'id': 'lequipe', 'name': \"L'equipe\"},\n",
       "   'author': \"L'EQUIPE\",\n",
       "   'title': \"Salis Abdul Samed prolonge à Lens jusqu'en 2028\",\n",
       "   'description': \"Salis Abdul Samed (23\\xa0ans) a prolongé son contrat d'une saison supplémentaire avec le RC Lens. Le milieu défensif ghanéen est désormais lié aux Sang et Or jusqu'en 2028.\",\n",
       "   'url': 'https://www.lequipe.fr/Football/Actualites/Salis-abdul-samed/1401500',\n",
       "   'urlToImage': 'https://medias.lequipe.fr/img-photo-jpg/salis-abdul-samed-lors-de-la-37e-journee-de-ligue-1-f-faugere-l-equipe/1500000001795940/455:297,1776:1178-640-427-75/ad21e.jpg',\n",
       "   'publishedAt': '2023-06-08T14:00:00+00:00',\n",
       "   'content': \"Après les attaques du RB\\xa0Leipzig sur Loïs Openda, le RC\\xa0Lens envoie un premier message à la concurrence. Salis Abdul Samed prolonge son bail en Artois d'une saison supplémentaire, soit jusqu'en juin\\xa0… [+529 chars]\"},\n",
       "  {'source': {'id': 'lequipe', 'name': \"L'equipe\"},\n",
       "   'author': \"L'EQUIPE\",\n",
       "   'title': 'Clémentine Geoffray championne du monde de trail court',\n",
       "   'description': \"Sensation à Innsbruck\\xa0: après avoir longtemps joué les troisièmes rôles, la Française Clémentine Geoffray s'est imposée en fin de course pour décrocher son premier titre de championne du monde de trail, ce jeudi, sur l'épreuve courte. Chez les hommes, Thibaut…\",\n",
       "   'url': 'https://www.lequipe.fr/Adrenaline/Trail/Actualites/Clementine-geoffray-championne-du-monde-de-trail-court/1401503',\n",
       "   'urlToImage': 'https://medias.lequipe.fr/img-photo-jpg/clementine-geoffray-wmtrc/1500000001795948/0:0,1998:1332-640-427-75/697b0.jpg',\n",
       "   'publishedAt': '2023-06-08T13:58:20+00:00',\n",
       "   'content': 'Chez les hommes, fidèle à ses stratégies de course raisonnables, le Norvégien Stian Angermund est petit à petit remonté sur la tête du peloton pour dominer dans le dernier tiers des 46\\xa0km du parcours… [+346 chars]'},\n",
       "  {'source': {'id': 'lequipe', 'name': \"L'equipe\"},\n",
       "   'author': \"L'EQUIPE\",\n",
       "   'title': 'Vingt-trois arrestations en marge de la finale de la Ligue Europa Conférence',\n",
       "   'description': 'Les incidents ayant opposé des supporters de la Fiorentina et de West Ham en marge de la finale de la Ligue Europa Conference mercredi soir à Prague (2-1) ont conduit à 23 arrestations, selon un nouveau bilan communiqué jeudi par la police tchèque.',\n",
       "   'url': 'https://www.lequipe.fr/Football/Actualites/Vingt-trois-arrestations-en-marge-de-la-finale-de-la-ligue-europa-conference/1401496',\n",
       "   'urlToImage': 'https://medias.lequipe.fr/img-photo-jpg/vingt-deux-italiens-et-un-anglais-ont-ete-interpelles-en-marge-de-la-victoire-des-hammers-2-1-a-prec/1500000001795933/0:0,1998:1332-640-427-75/0f5fd.jpg',\n",
       "   'publishedAt': '2023-06-08T13:19:32+00:00',\n",
       "   'content': 'La finale de Ligue Europa Conférence entre West Ham et la Fiorentina (2-1) aura beaucoup fait parler en dehors des terrains. Si le match a notamment été interrompu quelques minutes après des jets de … [+943 chars]'},\n",
       "  {'source': {'id': 'lequipe', 'name': \"L'equipe\"},\n",
       "   'author': \"L'EQUIPE\",\n",
       "   'title': \"Fabio Quartararo avant le GP d'Italie\\xa0: «\\xa0Il n'y aura pas de nouveautés\\xa0»\",\n",
       "   'description': \"Le Français aborde le Grand Prix de ce week-end au Mugello avec l'ambition de trouver enfin son rythme sur une Yamaha sans grand changement.\",\n",
       "   'url': 'https://www.lequipe.fr/Moto/Actualites/Fabio-quartararo-avant-le-gp-d-italie-il-n-y-aura-pas-de-nouveautes/1401493',\n",
       "   'urlToImage': 'https://medias.lequipe.fr/img-photo-jpg/fabio-quartararo-retrouve-au-mugello-un-circuit-qui-lui-a-reussi-dans-le-passe-presse-sports/1500000001795929/0:0,1997:1331-640-427-75/31f7d.jpg',\n",
       "   'publishedAt': '2023-06-08T13:07:33+00:00',\n",
       "   'content': \"Quatre semaines après le Grand Prix de France, le MotoGP fait son retour ce week-end au Grand Prix d'Italie. Fabio Quartararo aborde le rendez-vous avec appétit, à la sortie d'un break inhabituel en … [+1297 chars]\"}]}"
      ]
     },
     "execution_count": 13,
     "metadata": {},
     "output_type": "execute_result"
    }
   ],
   "source": [
    "import requests\n",
    "\n",
    "root_url = \"https://newsapi.org/v2\"\n",
    "endpoint = \"top-headlines\" \n",
    "params = {\n",
    "    \"apiKey\": \"73bbb95f8ecb49b499113a46481b4af1\",\n",
    "    \"sources\": \"lequipe\"\n",
    "}\n",
    "\n",
    "# call the get method of requests on our specifications\n",
    "response = requests.get(f\"{root_url}/{endpoint}\", params=params)\n",
    "response.json()"
   ]
  },
  {
   "cell_type": "markdown",
   "metadata": {},
   "source": [
    "The results is a bit hard to read, isn't? Why not to parse the JSON output to get only the titles of the articles in a list? Give it a try!"
   ]
  },
  {
   "cell_type": "code",
   "execution_count": 14,
   "metadata": {},
   "outputs": [
    {
     "name": "stdout",
     "output_type": "stream",
     "text": [
      "Marseille dans un nouveau monde après avoir intégré la Ligue Magnus\n",
      "Manchester City au complet pour la finale de la Ligue des champions\n",
      "Jonas Vingegaard remporte en solitaire la cinquième étape du Dauphiné et enfile le maillot jaune\n",
      "Jacobus Van Tonder (Clermont) signe à Perpignan\n",
      "L'UEFA a donné des consignes de sécurité aux supporters de Manchester City avant la finale de la Ligue des ...\n",
      "Transferts : Crystal Palace recrute Jefferson Lerma\n",
      "Salis Abdul Samed prolonge à Lens jusqu'en 2028\n",
      "Clémentine Geoffray championne du monde de trail court\n",
      "Vingt-trois arrestations en marge de la finale de la Ligue Europa Conférence\n",
      "Fabio Quartararo avant le GP d'Italie : « Il n'y aura pas de nouveautés »\n"
     ]
    }
   ],
   "source": [
    "# clean the JSON response here\n",
    "data = response.json()\n",
    "titles = [article['title'] for article in data['articles']]\n",
    "for title in titles:\n",
    "    print(title)"
   ]
  },
  {
   "cell_type": "markdown",
   "metadata": {},
   "source": [
    "### Exercise\n",
    "\n",
    "1. Choose any existing free API (look on Internet)\n",
    "2. Try to make some calls with `requests` by looking to the API's specifications\n",
    "3. Display the results"
   ]
  },
  {
   "cell_type": "code",
   "execution_count": null,
   "metadata": {},
   "outputs": [],
   "source": []
  }
 ],
 "metadata": {
  "kernelspec": {
   "display_name": "Python 3.10.5 ('infosessionvenv')",
   "language": "python",
   "name": "python3"
  },
  "language_info": {
   "codemirror_mode": {
    "name": "ipython",
    "version": 3
   },
   "file_extension": ".py",
   "mimetype": "text/x-python",
   "name": "python",
   "nbconvert_exporter": "python",
   "pygments_lexer": "ipython3",
   "version": "3.12.3"
  },
  "vscode": {
   "interpreter": {
    "hash": "661c13da0699b4d3adfbe1192573631e3fbd9fa55405ad8c238e615a4e7e8a33"
   }
  }
 },
 "nbformat": 4,
 "nbformat_minor": 2
}
