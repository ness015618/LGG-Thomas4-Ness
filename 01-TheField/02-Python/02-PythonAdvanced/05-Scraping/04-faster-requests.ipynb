{
 "cells": [
  {
   "cell_type": "markdown",
   "metadata": {},
   "source": [
    "# Make your requests faster\n",
    "\n",
    "When you start scraping web-pages or requesting APIs, you will be facing a problem when doing a lot of requests: this is really slow!\n",
    "\n",
    "It's because python is slow! You could say, well it should not be. Let's see how we can speed things up!\n",
    "\n",
    "## Measure performances\n",
    "\n",
    "In this notebook we will need to track how much time some code is taking to execute.\n",
    "To make things easier, we will create a simple decorator that will print the number of micro-seconds a function takes to execute.\n",
    "\n",
    "A good opportonity to practice decorators in a practical example!\n",
    "\n",
    "*Note that you need python3.3 or higher.*"
   ]
  },
  {
   "cell_type": "code",
   "execution_count": 1,
   "metadata": {},
   "outputs": [
    {
     "name": "stdout",
     "output_type": "stream",
     "text": [
      "example took 4.0 sec\n"
     ]
    }
   ],
   "source": [
    "import time\n",
    "\n",
    "def print_timing(func):\n",
    "    '''Create a timing decorator function use @print_timing just above the function you want to time.'''\n",
    "\n",
    "    def wrapper(*arg):\n",
    "        start = time.perf_counter()\n",
    "        \n",
    "        # Run the function decorated\n",
    "        result = func(*arg)\n",
    "\n",
    "        end = time.perf_counter()\n",
    "        execution_time = round((end - start), 2)\n",
    "        print(f'{func.__name__} took {execution_time} sec')\n",
    "        return result\n",
    "\n",
    "    return wrapper\n",
    "\n",
    "\n",
    "@print_timing\n",
    "def example():\n",
    "    time.sleep(4)\n",
    "\n",
    "\n",
    "example()"
   ]
  },
  {
   "cell_type": "markdown",
   "metadata": {},
   "source": [
    "## The API\n",
    "\n",
    "For this example, we will use the [quotable.io](https://api.quotable.io) API. It's an online API you can use to generate random quote.\n",
    "\n",
    "But feel free to replace `api_url` value with any API you'd like."
   ]
  },
  {
   "cell_type": "code",
   "execution_count": 3,
   "metadata": {},
   "outputs": [],
   "source": [
    "api_url = \"https://api.quotable.io/random\""
   ]
  },
  {
   "cell_type": "markdown",
   "metadata": {},
   "source": [
    "## The \"classic\" way\n",
    "\n",
    "If you start playing with requests, your should probably have something like this:"
   ]
  },
  {
   "cell_type": "code",
   "execution_count": 4,
   "metadata": {},
   "outputs": [
    {
     "name": "stdout",
     "output_type": "stream",
     "text": [
      "Dreams pass into the reality of action. From the actions stems the dream again; and this interdependence produces the highest form of living.\n",
      "To have much learning and skill, to be well-trained in discipline, and good in speech — this is the highest blessing.\n",
      "Friendship is held to be the severest test of character. It is easy, we think, to be loyal to a family and clan, whose blood is in your own veins.\n",
      "The eye sees only what the mind is prepared to comprehend.\n",
      "What is past is left behind. The future is yet unreached. Whatever quality is present, clearly see it right there.\n",
      "Go to your bosom: Knock there and ask your heart what it doth know.\n",
      "The awareness of our own strength makes us modest.\n",
      "Trust your own instinct. Your mistakes might as well be your own, instead of someone else's.\n",
      "Allow the world to live as it chooses, and allow yourself to live as you choose.\n",
      "Do not wait for leaders; do it alone, person to person.\n",
      "All children are artists. The problem is how to remain an artist once he grows up.\n",
      "Strength does not come from physical capacity. It comes from an indomitable will.\n",
      "The World is my country, all mankind are my brethren, and to do good is my religion.\n",
      "A successful person is one who can lay a firm foundation with the bricks that others throw at him or her.\n",
      "There surely is in human nature an inherent propensity to extract all the good out of all the evil.\n",
      "There is no great genius without some touch of madness.\n",
      "It is not a lack of love, but a lack of friendship that makes unhappy marriages.\n",
      "The function of wisdom is to discriminate between good and evil.\n",
      "Your attitude, not your aptitude, will determine your altitude.\n",
      "A real friend is one who walks in when the rest of the world walks out.\n",
      "The world is round so that friendship may encircle it.\n",
      "By accepting yourself and being fully what you are, your presence can make others happy.\n",
      "False friendship, like the ivy, decays and ruins the walls it embraces; but true friendship gives new life and animation to the object it supports.\n",
      "He can who thinks he can, and he can't who thinks he can't. This is an inexorable, indisputable law.\n",
      "Focusing your life solely on making a buck shows a poverty of ambition. It asks too little of yourself. And it will leave you unfulfilled.\n",
      "I am always doing that which I cannot do, in order that I may learn how to do it.\n",
      "Never interrupt someone doing what you said couldn't be done.\n",
      "When the world is so complicated, the simple gift of friendship is within all of our hands.\n",
      "We could never learn to be brave and patient if there were only joy in the world.\n",
      "Genius is one percent inspiration and ninety-nine percent perspiration.\n",
      "Technology is the campfire around which we tell our stories.\n",
      "Price is what you pay. Value is what you get.\n",
      "The greatest danger for most of us is not that our aim is too high, and we miss it, but that it is too low, and we reach it.\n",
      "Learn from yesterday, live for today, hope for tomorrow.\n",
      "The greatest mistake you can make in life is to be continually fearing you will make one.\n",
      "The beginning is always today.\n",
      "It requires wisdom to understand wisdom: the music is nothing if the audience is deaf.\n",
      "Who looks outside, dreams, who looks inside, awakes.\n",
      "Rock n' roll as a genre is different from pop and hip hop: it is about bands, and that for me suggests brotherhood, family, friendship and community.\n",
      "Beauty is not in the face; beauty is a light in the heart.\n",
      "Only those who dare to fail greatly can ever achieve greatly.\n",
      "In order to live free and happily you must sacrifice boredom. It is not always an easy sacrifice.\n",
      "A true friend is someone who is there for you when he'd rather be anywhere else.\n",
      "In seed time learn, in harvest teach, in winter enjoy.\n",
      "All great men are gifted with intuition. They know without reasoning or analysis, what they need to know.\n",
      "We are what our thoughts have made us; so take care about what you think. Words are secondary. Thoughts live; they travel far.\n",
      "The mark of your ignorance is the depth of your belief in injustice and tragedy. What the caterpillar calls the end of the world, the Master calls the butterfly.\n",
      "Life isn't about finding yourself. Life is about creating yourself.\n",
      "Action may not always bring happiness; but there is no happiness without action.\n",
      "Be kind whenever possible. It is always possible.\n",
      "basic_loop_request took 45.65 sec\n"
     ]
    }
   ],
   "source": [
    "import requests\n",
    "\n",
    "\n",
    "def basic_request(url: str):\n",
    "    response = requests.get(url)\n",
    "    response_json = response.json()\n",
    "    print(response_json[\"content\"])\n",
    "\n",
    "\n",
    "@print_timing\n",
    "def basic_loop_request(url: str):\n",
    "    # Query 50 times the API\n",
    "    for _ in range(50):\n",
    "        basic_request(url)\n",
    "\n",
    "\n",
    "basic_loop_request(api_url)"
   ]
  },
  {
   "cell_type": "markdown",
   "metadata": {},
   "source": [
    "### Results\n",
    "\n",
    "On my machine it took **17.06 sec for 50 requests**. \n",
    "\n",
    "Pretty slow right? But why is that?\n",
    "\n",
    "Each time you make a request, your computer needs to create a new \"session\", format your request, send it and wait to receive the response before doing it again with the next request."
   ]
  },
  {
   "cell_type": "markdown",
   "metadata": {},
   "source": [
    "## The \"session\" way\n",
    "\n",
    "To speed this, we can use a **\"session\"** that will be share by all the requests.\n",
    "\n",
    "You can picture it as a postman that knows you already, so he knows which bell to ring, where is the mailbox,... Instead of having to search for those each time."
   ]
  },
  {
   "cell_type": "code",
   "execution_count": 5,
   "metadata": {},
   "outputs": [
    {
     "name": "stdout",
     "output_type": "stream",
     "text": [
      "Blessed is the man who expects nothing, for he shall never be disappointed.\n",
      "They must often change, who would be constant in happiness or wisdom.\n",
      "The superior man understands what is right; the inferior man understands what will sell.\n",
      "Mistakes are always forgivable, if one has the courage to admit them.\n",
      "Believe deep down in your heart that you're destined to do great things.\n",
      "The real problem is not whether machines think but whether men do.\n",
      "He who learns must suffer. And even in our sleep pain that cannot forget falls drop by drop upon the heart, and in our own despair, against our will, comes wisdom to us by the awful grace of God.\n",
      "We respect our elders. There is wisdom that comes from experience, and I am not going to stop learning from wise counsel.\n",
      "Beauty is not in the face; beauty is a light in the heart.\n",
      "The best cure for the body is a quiet mind.\n",
      "Write your plans in pencil and give God the eraser.\n",
      "If you're going through hell, keep going.\n",
      "Wisdom ceases to be wisdom when it becomes too proud to weep, too grave to laugh, and too selfish to seek other than itself.\n",
      "The right way is not always the popular and easy way. Standing for right when it is unpopular is a true test of moral character.\n",
      "Only put off until tomorrow what you are willing to die having left undone.\n",
      "Knowledge without justice ought to be called cunning rather than wisdom.\n",
      "There surely is in human nature an inherent propensity to extract all the good out of all the evil.\n",
      "Take no thought of who is right or wrong or who is better than. Be not for or against.\n",
      "It is on our failures that we base a new and different and better success.\n",
      "When you see a good person, think of becoming like him. When you see someone not so good, reflect on your own weak points.\n",
      "All the world is a stage, And all the men and women merely players. They have their exits and entrances; Each man in his time plays many parts.\n",
      "I don't need a friend who changes when I change and who nods when I nod; my shadow does that much better.\n",
      "There are things so deep and complex that only intuition can reach it in our stage of development as human beings.\n",
      "The possession of knowledge does not kill the sense of wonder and mystery. There is always more mystery.\n",
      "Not every difficult and dangerous thing is suitable for training, but only that which is conducive to success in achieving the object of our effort.\n",
      "If we look at the world with a love of life, the world will reveal its beauty to us.\n",
      "Friendship is essentially a partnership.\n",
      "Nothing could be worse than the fear that one had given up too soon and left one unexpended effort that might have saved the world.\n",
      "A wise person should be urgently moved on occasions that make for urgency.\n",
      "The moment one gives close attention to anything, even a blade of grass, it becomes a mysterious, awesome, indescribably magnificent world in itself.\n",
      "The simplest things are often the truest.\n",
      "True friendship is like sound health; the value of it is seldom known until it is lost.\n",
      "Be as you wish to seem.\n",
      "A subtle thought that is in error may yet give rise to fruitful inquiry that can establish truths of great value.\n",
      "Luck is what happens when preparation meets opportunity.\n",
      "Three things cannot be long hidden: the sun, the moon, and the truth.\n",
      "Life is like riding a bicycle. To keep your balance you must keep moving.\n",
      "When you are content to be simply yourself and don't compare or compete, everybody will respect you.\n",
      "Fortune befriends the bold.\n",
      "A good plan violently executed now is better than a perfect plan executed next week.\n",
      "Imagination will often carry us to worlds that never were. But without it we go nowhere.\n",
      "He who is fixed to a star does not change his mind.\n",
      "By three methods we may learn wisdom: First, by reflection, which is noblest; Second, by imitation, which is easiest; and third by experience, which is the bitterest.\n",
      "Difficulties are things that show a person what they are.\n",
      "To wear your heart on your sleeve isn't a very good plan; you should wear it inside, where it functions best.\n",
      "The awareness of our own strength makes us modest.\n",
      "Yesterday I dared to struggle. Today I dare to win.\n",
      "Life is a succession of moments. To live each one is to succeed.\n",
      "Accept the things to which fate binds you and love the people with whom fate brings you together but do so with all your heart.\n",
      "Acquaintances we meet, enjoy, and can easily leave behind; but friendship grows deep roots.\n",
      "session_loop_request took 6.62 sec\n"
     ]
    }
   ],
   "source": [
    "from requests import Session\n",
    "\n",
    "\n",
    "def session_request(url: str, session: Session):\n",
    "    # Instead of using request.get, we use our session\n",
    "    response = session.get(url)\n",
    "    response_json = response.json()\n",
    "    print(response_json[\"content\"])\n",
    "\n",
    "\n",
    "@print_timing\n",
    "def session_loop_request(url: str):\n",
    "    # Create shared session for all of your requests\n",
    "    with Session() as session:\n",
    "        # Query 50 times the API\n",
    "        for _ in range(50):\n",
    "            session_request(url, session)\n",
    "\n",
    "\n",
    "session_loop_request(api_url)"
   ]
  },
  {
   "cell_type": "markdown",
   "metadata": {},
   "source": [
    "### Results\n",
    "\n",
    "It took me **5.99 sec for 50 requests**. That's better!\n",
    "\n",
    "And as you can see, I didn't change that much in the code."
   ]
  },
  {
   "cell_type": "markdown",
   "metadata": {},
   "source": [
    "## The \"Async\" way\n",
    "\n",
    "If you need even more performances, you will need to use [AsyncIo](https://docs.python.org/3/library/asyncio.html).\n",
    "\n",
    "This is a library to allow you to run asynchronous code.\n",
    "\n",
    "Why is that more efficiant? Well, when you send a request you need to wait for the response. And during the waiting time, our computer does nothing.\n",
    "If you count all the time the computer is just \"waiting\" on 50 or more requests, you will be surprised to see that most of the computing time is just waiting for the server to respond.\n",
    "\n",
    "[AsyncIo](https://docs.python.org/3/library/asyncio.html) allow you to bypass that.\n",
    "\n",
    "But as always, it has a cost: complexity.\n",
    "\n",
    "Making your code async will complixify the code a lot and make the debugging not a pleasant experience. Also, you will go so fast that you could be banned by the server.\n",
    "\n",
    "My advice? Use it only if you need it.\n",
    "\n",
    "I will show you a simple example but you want to understand it better, I really advice you **[this video](https://www.youtube.com/watch?v=qAh5dDODJ5k)**!\n",
    "\n",
    "### Requirements\n",
    "In order to simplify a bit the code, I will use [httpx](https://www.python-httpx.org/) a python library that is working the same way as the `requests` module but with few helpers for async."
   ]
  },
  {
   "cell_type": "code",
   "execution_count": 6,
   "metadata": {},
   "outputs": [
    {
     "name": "stdout",
     "output_type": "stream",
     "text": [
      "Requirement already satisfied: httpx in c:\\users\\ngira\\appdata\\local\\programs\\python\\python312\\lib\\site-packages (0.27.0)Note: you may need to restart the kernel to use updated packages.\n",
      "\n",
      "Requirement already satisfied: anyio in c:\\users\\ngira\\appdata\\local\\programs\\python\\python312\\lib\\site-packages (from httpx) (4.3.0)\n",
      "Requirement already satisfied: certifi in c:\\users\\ngira\\appdata\\local\\programs\\python\\python312\\lib\\site-packages (from httpx) (2024.2.2)\n",
      "Requirement already satisfied: httpcore==1.* in c:\\users\\ngira\\appdata\\local\\programs\\python\\python312\\lib\\site-packages (from httpx) (1.0.5)\n",
      "Requirement already satisfied: idna in c:\\users\\ngira\\appdata\\local\\programs\\python\\python312\\lib\\site-packages (from httpx) (3.7)\n",
      "Requirement already satisfied: sniffio in c:\\users\\ngira\\appdata\\local\\programs\\python\\python312\\lib\\site-packages (from httpx) (1.3.1)\n",
      "Requirement already satisfied: h11<0.15,>=0.13 in c:\\users\\ngira\\appdata\\local\\programs\\python\\python312\\lib\\site-packages (from httpcore==1.*->httpx) (0.14.0)\n"
     ]
    }
   ],
   "source": [
    "%pip install httpx"
   ]
  },
  {
   "cell_type": "markdown",
   "metadata": {},
   "source": [
    "### Warning!\n",
    "This code won't work in jupyter notebook, there are subtilities for async in jupyter notebook. See [this thread](https://stackoverflow.com/questions/47518874/how-do-i-run-python-asyncio-code-in-a-jupyter-notebook) for more informations.\n",
    "\n",
    "To make it simpler, I will put this code in a .py file and run it in command line:"
   ]
  },
  {
   "cell_type": "markdown",
   "metadata": {},
   "source": [
    "```python\n",
    "from httpx import AsyncClient\n",
    "import asyncio\n",
    "import time\n",
    "\n",
    "\n",
    "api_url = \"https://api.quotable.io/random\"\n",
    "\n",
    "\n",
    "async def session_request_async(url: str, session: AsyncClient):\n",
    "    # Instead of using request.get, we use our session\n",
    "    response = await session.get(url)\n",
    "    response_json = response.json()\n",
    "    print(response_json[\"content\"])\n",
    "    return response_json\n",
    "\n",
    "\n",
    "async def session_loop_request_async(url: str):\n",
    "    # Create shared session for all of your requests\n",
    "    async with AsyncClient() as session:\n",
    "        # Create a list of empty tasks\n",
    "        tasks = []\n",
    "        # Query 50 times the API\n",
    "        for _ in range(50):\n",
    "            # Add a request to tasks\n",
    "            tasks.append(\n",
    "                asyncio.create_task(\n",
    "                    session_request_async(url, session)        \n",
    "                )\n",
    "            )\n",
    "        # Now that all the tasks are registred, run them\n",
    "        responses = await asyncio.gather(*tasks)\n",
    "            \n",
    "            \n",
    "\n",
    "\n",
    "start = time.perf_counter()\n",
    "\n",
    "# We need to use asyncio.run to run the async function\n",
    "asyncio.run(session_loop_request_async(api_url))\n",
    "\n",
    "end = time.perf_counter()\n",
    "execution_time = round((end - start), 2)\n",
    "print(f'session_loop_request_async took {execution_time} sec')\n",
    "```"
   ]
  },
  {
   "cell_type": "code",
   "execution_count": 10,
   "metadata": {},
   "outputs": [
    {
     "name": "stdout",
     "output_type": "stream",
     "text": [
      "Courage is not the absence of fear, but simply moving on with dignity despite that fear.\n",
      "Be slow to fall into friendship; but when thou art in, continue firm and constant.\n",
      "All difficult things have their origin in that which is easy, and great things in that which is small.\n",
      "I'll prepare and someday my chance will come.\n",
      "Learning is the beginning of wealth. Learning is the beginning of health. Learning is the beginning of spirituality. Searching and learning is where the miracle process all begins.\n",
      "I have not failed. I've just found 10,000 ways that won't work.\n",
      "Chance is always powerful. Let your hook be always cast; in the pool where you least expect it, there will be a fish.\n",
      "We have committed the Golden Rule to memory; let us now commit it to life.\n",
      "Technology… is a queer thing. It brings you great gifts with one hand, and it stabs you in the back with the other.\n",
      "Love is the only force capable of transforming an enemy into a friend.\n",
      "We are wiser than we know.\n",
      "You cannot step twice into the same river, for other waters are continually flowing in.\n",
      "Those that know, do. Those that understand, teach.\n",
      "Yesterday I dared to struggle. Today I dare to win.\n",
      "Delight in heedfulness! Guard well your thoughts!\n",
      "Much wisdom often goes with fewer words.\n",
      "I owe my solitude to other people.\n",
      "Every time you smile at someone, it is an action of love, a gift to that person, a beautiful thing.\n",
      "Wrinkles should merely indicate where smiles have been.\n",
      "Friendship increases in visiting friends, but in visiting them seldom.\n",
      "Wise men speak because they have something to say; Fools because they have to say something.\n",
      "Mediocrity knows nothing higher than itself, but talent instantly recognizes genius.\n",
      "Gold medals aren't really made of gold. They're made of sweat, determination, and a hard-to-find alloy called guts.\n",
      "Where is the Life we have lost in living? Where is the wisdom we have lost in knowledge? Where is the knowledge we have lost in information?\n",
      "I think that we have a great opportunity to impart our wisdom and our knowledge and our experience to this younger generation. It may be different times, but experience transcends time, and wisdom transcends time.\n",
      "Take time to deliberate, but when the time for action has arrived, stop thinking and go in.\n",
      "It is far better to be alone, than to be in bad company.\n",
      "Skill to do comes of doing.\n",
      "If A is success in life, then A equals x plus y plus z. Work is x; y is play; and z is keeping your mouth shut.\n",
      "Most people are about as happy as they make up their minds to be\n",
      "Practice yourself, for heaven's sake in little things, and then proceed to greater.\n",
      "To fly as fast as thought, you must begin by knowing that you have already arrived.\n",
      "No one is useless in this world who lightens the burdens of another.\n",
      "Feeling and longing are the motive forces behind all human endeavor and human creations.\n",
      "I know not age, nor weariness nor defeat.\n",
      "True friendship ought never to conceal what it thinks.\n",
      "Creativity comes from trust. Trust your instincts. And never hope more than you work.\n",
      "Character is like a tree and reputation like a shadow. The shadow is what we think of it; the tree is the real thing.\n",
      "Through perseverance many people win success out of what seemed destined to be certain failure.\n",
      "A friend in power is a friend lost.\n",
      "Better than a thousand hollow words, is one word that brings peace.\n",
      "The world turns aside to let any man pass who knows where he is going.\n",
      "Be here now. Be someplace else later. Is that so complicated?\n",
      "You give before you get.\n",
      "A true friend is the greatest of all blessings, and that which we take the least care of all to acquire.\n",
      "There are two ways to slide easily through life: to believe everything or to doubt everything; both ways save us from thinking.\n",
      "Sometimes I am happy and sometimes not. I am, after all, a human being, you know. And I am glad that we are sometimes happy and sometimes not. You get your wisdom working by having different emotions.\n",
      "Reason and free inquiry are the only effectual agents against error.\n",
      "The truth is not for all men, but only for those who seek it.\n",
      "Friendship is also about liking a person for their failings, their weakness. It's also about mutual help, not about exploitation.\n",
      "session_loop_request_async took 1.43 sec\n"
     ]
    }
   ],
   "source": [
    "!python ./assets/async_requests.py"
   ]
  },
  {
   "cell_type": "markdown",
   "metadata": {},
   "source": [
    "### Results\n",
    "It only took me **0.8 sec for 50 requests**! That's impressive.\n",
    "\n",
    "But as you can see, it is harder to write, structure and debug. So make sure you **really** need it if you consider using this method."
   ]
  },
  {
   "cell_type": "markdown",
   "metadata": {},
   "source": [
    "## Summary\n",
    "\n",
    "If we gather all our results:\n",
    "\n",
    "| Method                     | Execution time for 50 requests |\n",
    "|----------------------------|--------------------------------|\n",
    "| `requests.get` loop        | 17.06 sec                  |\n",
    "| `requests` with `Session`  | 5.99 sec                   |\n",
    "| `httpx` with `AsyncClient` | 0.8 sec                   |"
   ]
  }
 ],
 "metadata": {
  "kernelspec": {
   "display_name": "Python 3.10.5 64-bit",
   "language": "python",
   "name": "python3"
  },
  "language_info": {
   "codemirror_mode": {
    "name": "ipython",
    "version": 3
   },
   "file_extension": ".py",
   "mimetype": "text/x-python",
   "name": "python",
   "nbconvert_exporter": "python",
   "pygments_lexer": "ipython3",
   "version": "3.12.3"
  },
  "orig_nbformat": 4,
  "vscode": {
   "interpreter": {
    "hash": "b460384b52104c1e5b9cf54bee46a255d22b2bef338f75ac4ad5d48196028d3c"
   }
  }
 },
 "nbformat": 4,
 "nbformat_minor": 2
}
