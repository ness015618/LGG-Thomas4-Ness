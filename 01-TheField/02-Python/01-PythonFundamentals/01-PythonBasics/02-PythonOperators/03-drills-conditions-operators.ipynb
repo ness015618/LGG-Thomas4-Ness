{
 "cells": [
  {
   "cell_type": "markdown",
   "metadata": {},
   "source": [
    "# Drill : Basics python syntax\n"
   ]
  },
  {
   "cell_type": "markdown",
   "metadata": {},
   "source": [
    "In some of these exercises, you will have to use methods that you have not seen yet. In this case, search on google for an example of use. Take the right habits to avoid being blocked"
   ]
  },
  {
   "cell_type": "markdown",
   "metadata": {},
   "source": [
    "Run all cells before starting the tests."
   ]
  },
  {
   "cell_type": "markdown",
   "metadata": {},
   "source": [
    "**1. Create a variable `age` that contains value 32**"
   ]
  },
  {
   "cell_type": "code",
   "execution_count": 1,
   "metadata": {},
   "outputs": [],
   "source": [
    "age = 32"
   ]
  },
  {
   "cell_type": "markdown",
   "metadata": {},
   "source": [
    "**2. Add 10 to variable `age`**"
   ]
  },
  {
   "cell_type": "code",
   "execution_count": 2,
   "metadata": {},
   "outputs": [
    {
     "name": "stdout",
     "output_type": "stream",
     "text": [
      "42\n"
     ]
    }
   ],
   "source": [
    "age +=10\n",
    "print(age)"
   ]
  },
  {
   "cell_type": "markdown",
   "metadata": {},
   "source": [
    "**3. Create a variable `divAge` and assign it the value of the age divided by 7**  \n",
    "- ❗ Be careful, it must be an integer."
   ]
  },
  {
   "cell_type": "code",
   "execution_count": 3,
   "metadata": {},
   "outputs": [
    {
     "name": "stdout",
     "output_type": "stream",
     "text": [
      "6\n"
     ]
    }
   ],
   "source": [
    "divAge = int(age/7)\n",
    "print(divAge)"
   ]
  },
  {
   "cell_type": "markdown",
   "metadata": {},
   "source": [
    "**4. Create a variable `text_div` that contains the character string \"42 divided by 7 equals 6\".**  \n",
    "- You must use the `age` and `div_age` variables"
   ]
  },
  {
   "cell_type": "code",
   "execution_count": 5,
   "metadata": {},
   "outputs": [
    {
     "name": "stdout",
     "output_type": "stream",
     "text": [
      "42 divided by 7 equals 6\n"
     ]
    }
   ],
   "source": [
    "text_div = f\"{age} divided by 7 equals {divAge}\"\n",
    "print(text_div)"
   ]
  },
  {
   "cell_type": "markdown",
   "metadata": {},
   "source": [
    "**5. Create a variable `rest_div` that contains the rest of the variable `age` divided by 7**"
   ]
  },
  {
   "cell_type": "code",
   "execution_count": 6,
   "metadata": {},
   "outputs": [
    {
     "name": "stdout",
     "output_type": "stream",
     "text": [
      "0\n"
     ]
    }
   ],
   "source": [
    "rest_div = age%7\n",
    "print(rest_div)"
   ]
  },
  {
   "cell_type": "markdown",
   "metadata": {},
   "source": [
    "**6. Create a variable `exp_div` that contains the value of `rest_div` to the 3rd power**"
   ]
  },
  {
   "cell_type": "code",
   "execution_count": 7,
   "metadata": {},
   "outputs": [
    {
     "name": "stdout",
     "output_type": "stream",
     "text": [
      "0\n"
     ]
    }
   ],
   "source": [
    "exp_div = rest_div**3\n",
    "print(exp_div)"
   ]
  },
  {
   "cell_type": "markdown",
   "metadata": {},
   "source": [
    "**7. Write a program that enters an integer and then displays the value entered and its type.**"
   ]
  },
  {
   "cell_type": "code",
   "execution_count": 5,
   "metadata": {},
   "outputs": [
    {
     "name": "stdout",
     "output_type": "stream",
     "text": [
      "This is not a valid integer. Enter a valid integer.\n"
     ]
    }
   ],
   "source": [
    "def int_type(number):\n",
    "    try:\n",
    "        print(int(number),type(number))\n",
    "    except ValueError:\n",
    "        print(\"This is not a valid integer. Enter a valid integer.\")\n",
    "\n",
    "int_type((input(\"Enter an integer : \")))"
   ]
  },
  {
   "cell_type": "markdown",
   "metadata": {},
   "source": [
    "**8. Use variables to represent the price of materials.**  \n",
    "- 2 bottles of milk at €0.45 each\n",
    "- 3 bottles of raw cider at €3.85 each\n",
    "- 1 bag of flour at 0.9 €\n",
    "- 1 packet of butter at €0.77\n",
    "- 1 jar of nutella at €1.87  \n",
    "\n",
    "**Calculate the sum of all items and store it in a `order_price` variable**"
   ]
  },
  {
   "cell_type": "code",
   "execution_count": 13,
   "metadata": {},
   "outputs": [
    {
     "name": "stdout",
     "output_type": "stream",
     "text": [
      "I paid a total of 15.99\n"
     ]
    }
   ],
   "source": [
    "milk = 0.45\n",
    "cider = 3.85\n",
    "flour = 0.9\n",
    "butter = 0.77\n",
    "nutella = 1.87\n",
    "\n",
    "my_order = [2*milk,3*cider,flour,butter,nutella]\n",
    "\n",
    "order_price = 0\n",
    "for item in my_order:\n",
    "    order_price += item\n",
    "print(f\"I paid a total of {round(order_price,2)}\")"
   ]
  },
  {
   "cell_type": "markdown",
   "metadata": {},
   "source": [
    "**Create a variable `allowance_money` which has a value of 20 and then create an algorithm that calculates the available money by subtracting the price of the order.**\n",
    "\n",
    "If there is enough money, record the following sentence in the variable `message` and subtract the expense from `allowance_money` : \n",
    "- message = \"You have spent\" + `order_price` + \"you have left\" + `allowance_money` \n",
    "\n",
    "If there is not enough money, record the following sentence in the `message` variable: \n",
    "- message= \"Sorry you're missing *amount_missing* euros\" \n",
    "\n",
    "If there is 0 left, record the following sentence in the `message` variable: \n",
    "- message = \"You are broke!\"\n"
   ]
  },
  {
   "cell_type": "code",
   "execution_count": 21,
   "metadata": {},
   "outputs": [
    {
     "name": "stdout",
     "output_type": "stream",
     "text": [
      "Sorry you're missing 5 euros.\n"
     ]
    }
   ],
   "source": [
    "message = \"\"\n",
    "# Declare and assign the variable `allowance_money`\n",
    "allowance_money = 20\n",
    "\n",
    "if allowance_money > order_price:\n",
    "    allowance_money -= order_price\n",
    "    message = f\"You have spent {round(order_price,2)} and you have {round(allowance_money,2)} left.\"\n",
    "elif allowance_money == order_price:\n",
    "    allowance_money -= order_price\n",
    "    message = f\"You are broke !\"\n",
    "else:\n",
    "    message = f\"Sorry you're missing {order_price-allowance_money} euros.\"\n",
    "\n",
    "print(message)\n",
    "# Then"
   ]
  },
  {
   "cell_type": "markdown",
   "metadata": {},
   "source": [
    "**9. Write a program that asks you to enter 2 values and displays the smallest of the 2 values**"
   ]
  },
  {
   "cell_type": "code",
   "execution_count": 2,
   "metadata": {},
   "outputs": [
    {
     "name": "stdout",
     "output_type": "stream",
     "text": [
      "The smallest value is 2.0\n"
     ]
    }
   ],
   "source": [
    "def smallest_value():\n",
    "    nb1 = float(input(\"Number 1 : \"))\n",
    "    nb2 = float(input(\"Number 2 : \"))\n",
    "\n",
    "    if nb1 > nb2:\n",
    "        print(f\"The smallest value is {nb2}\")\n",
    "    else:\n",
    "        print(f\"The smallest value is {nb1}\")\n",
    "\n",
    "smallest_value()"
   ]
  },
  {
   "cell_type": "markdown",
   "metadata": {},
   "source": [
    "**10. Write a script that asks you to enter 2 strings and displays the largest of the 2 strings (the one with the most characters).**"
   ]
  },
  {
   "cell_type": "code",
   "execution_count": 8,
   "metadata": {},
   "outputs": [
    {
     "name": "stdout",
     "output_type": "stream",
     "text": [
      "Both strings are the same length (7): bonjour - manteau\n"
     ]
    }
   ],
   "source": [
    "string1 = input(\"Enter first string here : \")\n",
    "string2 = input(\"Enter second string here : \")\n",
    "\n",
    "if len(string1) > len(string2):\n",
    "    print(f\"This is the biggest string: {string1}\")\n",
    "elif len(string2) > len(string1):\n",
    "    print(f\"This is the biggest string: {string2}\")\n",
    "elif len(string2) == len(string1):\n",
    "    print(f\"Both strings are the same length ({len(string1)}): {string1} - {string2}\")\n",
    "    "
   ]
  },
  {
   "cell_type": "markdown",
   "metadata": {},
   "source": [
    "**11. Write a script that converts euros into dollars.**\n",
    "- The program will start by asking the user to indicate with a character 'E' or '$' depending on the currency of the amount they are entering.\n",
    "- Then the program will ask you to enter the amount and display the conversion."
   ]
  },
  {
   "cell_type": "code",
   "execution_count": 12,
   "metadata": {},
   "outputs": [
    {
     "name": "stdout",
     "output_type": "stream",
     "text": [
      "25.0 $ is worth 23.084 EUR\n"
     ]
    }
   ],
   "source": [
    "currency = input(\"Enter the currency (E or $) :\")\n",
    "\n",
    "while currency != 'E' and currency != '$':\n",
    "    currency = input(\"Please put a valid currency (only E or $)\")\n",
    "\n",
    "rate = 1.083 #1 EUR = 1,083 USD (x1,083)\n",
    "amount = float(input(\"Enter the amount :\"))\n",
    "if currency == 'E':\n",
    "    print(f\"{amount} EUR is worth {round(amount*rate,4)} $\")\n",
    "elif currency == '$':\n",
    "    print(f\"{amount} $ is worth {round(amount/rate,4)} EUR\")"
   ]
  },
  {
   "cell_type": "markdown",
   "metadata": {},
   "source": [
    "**12. Check if the variable `name` is in the `students_turing` list. (Without making a loop)** \n",
    "* If the name is in the list, display \"You are at the turing's\".\n",
    "* Otherwise display: \"You are not part of the turing's\""
   ]
  },
  {
   "cell_type": "code",
   "execution_count": 13,
   "metadata": {},
   "outputs": [
    {
     "name": "stdout",
     "output_type": "stream",
     "text": [
      "You are not part of the turing's\n"
     ]
    }
   ],
   "source": [
    "studentsTuring = [\"Redouane\", \"Justine\", \"Ruben\", \"Edouard\"]\n",
    "name = \"Julie\"\n",
    "\n",
    "if name in studentsTuring:\n",
    "    print(\"You are at the turing's\")\n",
    "else:\n",
    "    print(\"You are not part of the turing's\")\n",
    "          "
   ]
  },
  {
   "cell_type": "markdown",
   "metadata": {},
   "source": [
    "**13. Calculate the volume of a sphere using the formula *(4π/3) x R³*. The radius is 10.**  \n",
    "- Save the result in a \"volume\" variable.\n"
   ]
  },
  {
   "cell_type": "code",
   "execution_count": 15,
   "metadata": {},
   "outputs": [
    {
     "name": "stdout",
     "output_type": "stream",
     "text": [
      "The volume of a sphere of radius 10 is 4188.7902\n"
     ]
    }
   ],
   "source": [
    "import math\n",
    "radius = 10\n",
    "volume = ((4*math.pi)/3) * radius**3\n",
    "print(f\"The volume of a sphere of radius {radius} is {round(volume,4)}\")"
   ]
  }
 ],
 "metadata": {
  "kernelspec": {
   "display_name": "Python 3.9.13 64-bit (microsoft store)",
   "language": "python",
   "name": "python3"
  },
  "language_info": {
   "codemirror_mode": {
    "name": "ipython",
    "version": 3
   },
   "file_extension": ".py",
   "mimetype": "text/x-python",
   "name": "python",
   "nbconvert_exporter": "python",
   "pygments_lexer": "ipython3",
   "version": "3.12.3"
  },
  "vscode": {
   "interpreter": {
    "hash": "5af58ead5434bcaec4ba320c097b4ab95f4d47b5cc097d838e053a401accc545"
   }
  }
 },
 "nbformat": 4,
 "nbformat_minor": 2
}
