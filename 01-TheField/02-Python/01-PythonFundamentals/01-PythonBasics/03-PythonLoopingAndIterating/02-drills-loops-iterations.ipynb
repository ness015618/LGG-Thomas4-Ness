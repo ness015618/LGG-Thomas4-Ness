{
 "cells": [
  {
   "cell_type": "markdown",
   "metadata": {},
   "source": [
    "# Drill loops and iterations"
   ]
  },
  {
   "cell_type": "markdown",
   "metadata": {},
   "source": [
    "### 1. Display all students in the `students` list in alphabetical order."
   ]
  },
  {
   "cell_type": "code",
   "execution_count": 2,
   "metadata": {},
   "outputs": [
    {
     "name": "stdout",
     "output_type": "stream",
     "text": [
      "['Adrien', 'Axel', 'Baptiste', 'Caroline', 'Joe', 'Mathieu', 'Merouane', 'Nathan', 'Raphaël', 'Sophie']\n"
     ]
    }
   ],
   "source": [
    "students = [\n",
    "    \"Merouane\",\n",
    "    \"Baptiste\",\n",
    "    \"Caroline\",\n",
    "    \"Joe\",\n",
    "    \"Sophie\",\n",
    "    \"Nathan\",\n",
    "    \"Raphaël\",\n",
    "    \"Axel\",\n",
    "    \"Mathieu\",\n",
    "    \"Adrien\",\n",
    "]\n",
    "\n",
    "# Easy way with a function\n",
    "students.sort()\n",
    "print(students)\n",
    "\n",
    "# To do : try With a loop\n",
    "# alphabetical_students = [ ]    "
   ]
  },
  {
   "cell_type": "markdown",
   "metadata": {},
   "source": [
    "### 2. Display only the names which begin with the letter \"M\"."
   ]
  },
  {
   "cell_type": "code",
   "execution_count": 5,
   "metadata": {},
   "outputs": [
    {
     "name": "stdout",
     "output_type": "stream",
     "text": [
      "Mathieu\n",
      "Merouane\n"
     ]
    }
   ],
   "source": [
    "for name in students:\n",
    "    if name[0] == 'M':\n",
    "        print(name)"
   ]
  },
  {
   "cell_type": "markdown",
   "metadata": {},
   "source": [
    "### 3. Display integers from 0 to 15 not included, using a `for` loop and the `range()` instruction."
   ]
  },
  {
   "cell_type": "code",
   "execution_count": 1,
   "metadata": {},
   "outputs": [
    {
     "name": "stdout",
     "output_type": "stream",
     "text": [
      "0\n",
      "1\n",
      "2\n",
      "3\n",
      "4\n",
      "5\n",
      "6\n",
      "7\n",
      "8\n",
      "9\n",
      "10\n",
      "11\n",
      "12\n",
      "13\n",
      "14\n"
     ]
    }
   ],
   "source": [
    "for number in range(15):\n",
    "    print(number)"
   ]
  },
  {
   "cell_type": "markdown",
   "metadata": {},
   "source": [
    "### 4. Create a `for` loop that displays integers from 1 to 10 included, but use the `break` instruction to interrupt it at 5."
   ]
  },
  {
   "cell_type": "code",
   "execution_count": 6,
   "metadata": {},
   "outputs": [
    {
     "name": "stdout",
     "output_type": "stream",
     "text": [
      "1\n",
      "2\n",
      "3\n",
      "4\n",
      "5\n",
      "Break after 5\n"
     ]
    }
   ],
   "source": [
    "for number in range(1,11):\n",
    "    print(number)\n",
    "    if number >= 5:\n",
    "        print(\"Break after 5\")\n",
    "        break\n",
    "        "
   ]
  },
  {
   "cell_type": "markdown",
   "metadata": {},
   "source": [
    "### 4. Create a `for` loop that displays integers from 1 to 10 included, but use the `continue` to modify its execution at 5."
   ]
  },
  {
   "cell_type": "code",
   "execution_count": 8,
   "metadata": {},
   "outputs": [
    {
     "name": "stdout",
     "output_type": "stream",
     "text": [
      "1\n",
      "Normal execution without 'continue'\n",
      "2\n",
      "Normal execution without 'continue'\n",
      "3\n",
      "Normal execution without 'continue'\n",
      "4\n",
      "Normal execution without 'continue'\n",
      "5\n",
      "6\n",
      "7\n",
      "8\n",
      "9\n",
      "10\n"
     ]
    }
   ],
   "source": [
    "for number in range(1,11):\n",
    "    print(number)\n",
    "    if number >= 5:\n",
    "        continue\n",
    "    print(\"Normal execution without 'continue'\")"
   ]
  },
  {
   "cell_type": "markdown",
   "metadata": {},
   "source": [
    "### 6. Follow the instructions :"
   ]
  },
  {
   "cell_type": "markdown",
   "metadata": {},
   "source": [
    "- **Sort and display the list.**\n",
    "    - Output expected: `[10, 17, 25, 38, 72]`\n",
    "- **Add item 12 to the list and display the list.**\n",
    "    - Output expected: `[17, 38, 10, 25, 72, 12]`\n",
    "- **Reverse and display the list.**\n",
    "    - Output expected: `[12, 72, 25, 10, 38, 17]`\n",
    "- **Display the index of element 17.**\n",
    "    - Output expected: `5`\n",
    "- **Remove item 38 and display the list.**\n",
    "    - Output expected: `[12, 72, 25, 10, 17]`\n",
    "- **Display the sub-list of the 2nd to 3rd element.**\n",
    "    - Output expected: `[72, 25]`\n",
    "- **Display the sub-list from the beginning to the 2nd element.**\n",
    "    - Output expected: `[12, 72]`\n",
    "- **Display the sub-list of the 3rd element at the end of the list.**\n",
    "    - Output expected: `[25, 10, 17]`\n",
    "- **Display the complete sub-list of the list.**\n",
    "    - Output expected: `[12, 72, 25, 10, 17]`\n",
    "- **Display the last element using a negative indication.**\n",
    "    - Output expected: `[17]`"
   ]
  },
  {
   "cell_type": "code",
   "execution_count": 28,
   "metadata": {},
   "outputs": [
    {
     "name": "stdout",
     "output_type": "stream",
     "text": [
      "[10, 17, 25, 38, 72]\n"
     ]
    },
    {
     "data": {
      "text/plain": [
       "'\\nThis would not work :\\nx = list_of_numbers.sort()\\nprint(x)\\nBecause the sort() function sorts (modifies) the list directly.\\nIt does not return the sorted list, it returns None.\\n'"
      ]
     },
     "execution_count": 28,
     "metadata": {},
     "output_type": "execute_result"
    }
   ],
   "source": [
    "list_of_numbers = [17, 38, 10, 25, 72]\n",
    "\n",
    "# Code here\n",
    "sorted_list = sorted(list_of_numbers)\n",
    "print(sorted_list)\n",
    "\n",
    "\"\"\"\n",
    "This would not work :\n",
    "x = list_of_numbers.sort()\n",
    "print(x)\n",
    "Because the sort() function sorts (modifies) the list directly.\n",
    "It does not return the sorted list, it returns None.\n",
    "\"\"\""
   ]
  },
  {
   "cell_type": "code",
   "execution_count": 30,
   "metadata": {},
   "outputs": [
    {
     "name": "stdout",
     "output_type": "stream",
     "text": [
      "[17, 38, 10, 25, 72, 12]\n"
     ]
    }
   ],
   "source": [
    "# Add item 12 to the list and display the list.\n",
    "list_of_numbers.append(12)\n",
    "print(list_of_numbers)"
   ]
  },
  {
   "cell_type": "code",
   "execution_count": 35,
   "metadata": {},
   "outputs": [
    {
     "name": "stdout",
     "output_type": "stream",
     "text": [
      "[12, 72, 25, 10, 38, 17]\n"
     ]
    },
    {
     "data": {
      "text/plain": [
       "'\"\\nprint(reversed_list)\\nThis does not print the numbers\\nbecause the reversed() function returns a reversed iterator object.\\nThis returns something like :\\n<list_reverseiterator object at [nombre en hexa]>\\n'"
      ]
     },
     "execution_count": 35,
     "metadata": {},
     "output_type": "execute_result"
    }
   ],
   "source": [
    "# Reverse and display the list.\n",
    "reversed_list = reversed(list_of_numbers)\n",
    "list_of_numbers = []\n",
    "for number in reversed_list:\n",
    "    list_of_numbers.append(number)\n",
    "print(list_of_numbers)\n",
    "\n",
    "# Je pense que list_of_number est un nouvel item (emplacement mémoire différent)\n",
    "# Il y a moyen de le faire en convertissant reversed(list_of_numbers)\n",
    "\n",
    "\"\"\"\"\n",
    "print(reversed_list)\n",
    "This does not print the numbers\n",
    "because the reversed() function returns a reversed iterator object.\n",
    "This returns something like :\n",
    "<list_reverseiterator object at [nombre en hexa]>\n",
    "\"\"\"\n",
    "# "
   ]
  },
  {
   "cell_type": "code",
   "execution_count": 36,
   "metadata": {},
   "outputs": [
    {
     "name": "stdout",
     "output_type": "stream",
     "text": [
      "Index of element 17 : 5\n"
     ]
    }
   ],
   "source": [
    "# Display the index of element 17.\n",
    "# function index()\n",
    "\n",
    "for index in range(len(list_of_numbers)):\n",
    "    if list_of_numbers[index] == 17:\n",
    "        print(\"Index of element 17 :\", index)"
   ]
  },
  {
   "cell_type": "code",
   "execution_count": 38,
   "metadata": {},
   "outputs": [
    {
     "name": "stdout",
     "output_type": "stream",
     "text": [
      "[12, 72, 25, 10, 17]\n"
     ]
    }
   ],
   "source": [
    "# Remove item 38 and display the list.\n",
    "new_list_of_number = []\n",
    "\n",
    "for number in list_of_numbers:\n",
    "    if number != 38:\n",
    "        new_list_of_number.append(number)\n",
    "print(new_list_of_number)"
   ]
  },
  {
   "cell_type": "code",
   "execution_count": 46,
   "metadata": {},
   "outputs": [
    {
     "name": "stdout",
     "output_type": "stream",
     "text": [
      "[72, 25]\n",
      "[12, 72]\n",
      "[25, 10, 17]\n",
      "[12, 72, 25, 10, 17]\n",
      "[17]\n"
     ]
    }
   ],
   "source": [
    "# Display the sub-list of the 2nd to 3rd element.\n",
    "print(new_list_of_number[1:3])\n",
    "\n",
    "# Display the sub-list from the beginning to the 2nd element.\n",
    "print(new_list_of_number[0:2])\n",
    "\n",
    "# Display the sub-list of the 3rd element at the end of the list.\n",
    "print(new_list_of_number[2::])\n",
    "\n",
    "# Display the complete sub-list of the list.\n",
    "print(new_list_of_number[::])\n",
    "\n",
    "# Display the last element using a negative indication.\n",
    "print(new_list_of_number[-1::])"
   ]
  },
  {
   "cell_type": "markdown",
   "metadata": {},
   "source": [
    "Note that some list methods do not return anything."
   ]
  },
  {
   "cell_type": "markdown",
   "metadata": {},
   "source": [
    "### 7. Write an algorithm that:\n",
    "1. Asks the user to enter a number.\n",
    "2. Make sure that your program displays all the numbers down to 0. For example, if the user enters the number 3, then your program will display something like this: `3,2,1,0`"
   ]
  },
  {
   "cell_type": "code",
   "execution_count": 50,
   "metadata": {},
   "outputs": [
    {
     "name": "stdout",
     "output_type": "stream",
     "text": [
      "3\n",
      "2\n",
      "1\n",
      "0\n"
     ]
    }
   ],
   "source": [
    "countdown = int(input(\"Enter a integer : \"))\n",
    "\n",
    "while countdown >= 0:\n",
    "   print(countdown)\n",
    "   countdown -= 1 "
   ]
  },
  {
   "cell_type": "markdown",
   "metadata": {},
   "source": [
    "### 8.The price is right ! \n",
    "- Create a variable that will contain the number to be found. \n",
    "- Then create a function that will ask the user to find this price (asking for a number). \n",
    "- If the user enters a number that is too high, output the sentence: \"It's less.\". \n",
    "- If he enters a number that is too low, output the sentence: \"It's more.\". \n",
    "- If the user finds the right price, output the sentence: \"Well done, you won!\"."
   ]
  },
  {
   "cell_type": "code",
   "execution_count": 5,
   "metadata": {},
   "outputs": [
    {
     "name": "stdout",
     "output_type": "stream",
     "text": [
      "It's more than that!\n",
      "It's less than this!\n",
      "It's more than that!\n",
      "It's more than that!\n",
      "Well done, you won! The price was 87\n"
     ]
    }
   ],
   "source": [
    "import random\n",
    "\n",
    "def guess_the_price():\n",
    "    price = random.randint(0, 100)\n",
    "    guess = None\n",
    "    while guess != price:\n",
    "        guess = int(input(\"Your guess : \"))\n",
    "        if guess > price:\n",
    "            print(\"It's less than this!\")\n",
    "        if guess < price:\n",
    "            print(\"It's more than that!\")\n",
    "    print(\"Well done, you won! The price was\", price)\n",
    "\n",
    "guess_the_price()"
   ]
  },
  {
   "cell_type": "markdown",
   "metadata": {},
   "source": [
    "### 9. Display all students with the sentence \"NAME is an alumni. \""
   ]
  },
  {
   "cell_type": "code",
   "execution_count": 11,
   "metadata": {},
   "outputs": [
    {
     "name": "stdout",
     "output_type": "stream",
     "text": [
      "DAVID was an alumni\n",
      "JUSTINE was an alumni\n",
      "VALENTIN was an alumni\n",
      "AXEL was an alumni\n",
      "REDOUANE was an alumni\n",
      "JULIE was an alumni\n",
      "STÉPHANE was an alumni\n",
      "MOSTAPHA was an alumni\n",
      "CLAUDIU was an alumni\n",
      "SON was an alumni\n"
     ]
    }
   ],
   "source": [
    "all_students = [\n",
    "    [\"David\", \"Justine\", \"Valentin\", \"Axel\", \"Redouane\"],\n",
    "    [\"Julie\", \"Stéphane\", \"Mostapha\", \"Claudiu\", \"Son\"],\n",
    "]\n",
    "\n",
    "for one_list in all_students:\n",
    "    for student in one_list:\n",
    "        print(f\"{str(student).upper()} was an alumni\")        \n",
    "#str(student) necessary because upper() works on strings and student is a list element"
   ]
  },
  {
   "cell_type": "markdown",
   "metadata": {},
   "source": [
    "**10. Display all elements. If the element is part of the first list, display - `\"ELEMENT_HERE is a backend language?\"` - and if the element is part of the second list, display - `\"ELEMENT_HERE is a frontend language?\"`** "
   ]
  },
  {
   "cell_type": "code",
   "execution_count": 13,
   "metadata": {},
   "outputs": [
    {
     "name": "stdout",
     "output_type": "stream",
     "text": [
      "PHP is a backend language ?\n",
      "JAVA is a backend language ?\n",
      "C# is a backend language ?\n",
      "HTML is a frontend language ?\n",
      "CSS is a frontend language ?\n",
      "JAVASCRIPT is a frontend language ?\n"
     ]
    }
   ],
   "source": [
    "languages = [[\"PHP\", \"Java\", \"C#\"], [\"HTML\", \"CSS\", \"Javascript\"]]\n",
    "\n",
    "for language in languages[0]:\n",
    "    print(f\"{str(language).upper()} is a backend language ?\")\n",
    "for language in languages[1]:\n",
    "    print(f\"{str(language).upper()} is a frontend language ?\")"
   ]
  }
 ],
 "metadata": {
  "kernelspec": {
   "display_name": "Python 3.9.13 64-bit (microsoft store)",
   "language": "python",
   "name": "python3"
  },
  "language_info": {
   "codemirror_mode": {
    "name": "ipython",
    "version": 3
   },
   "file_extension": ".py",
   "mimetype": "text/x-python",
   "name": "python",
   "nbconvert_exporter": "python",
   "pygments_lexer": "ipython3",
   "version": "3.12.3"
  },
  "vscode": {
   "interpreter": {
    "hash": "5af58ead5434bcaec4ba320c097b4ab95f4d47b5cc097d838e053a401accc545"
   }
  }
 },
 "nbformat": 4,
 "nbformat_minor": 2
}
