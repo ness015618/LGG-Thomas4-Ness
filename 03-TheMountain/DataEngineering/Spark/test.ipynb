{
 "cells": [
  {
   "cell_type": "code",
   "execution_count": null,
   "metadata": {},
   "outputs": [],
   "source": [
    "from pyspark.sql import SparkSession"
   ]
  },
  {
   "cell_type": "code",
   "execution_count": null,
   "metadata": {},
   "outputs": [],
   "source": [
    "# Create a SparkSession\n",
    "spark = SparkSession.builder.appName(\"My App\").getOrCreate()\n",
    "\n",
    "# Read a text file and count the number of lines\n",
    "lines = spark.read.text(\"/path/to/file.txt\").count()\n",
    "\n",
    "# Print the line count\n",
    "print(f\"Number of lines: {lines}\")\n",
    "\n",
    "# Stop the SparkSession\n",
    "spark.stop()"
   ]
  }
 ],
 "metadata": {
  "language_info": {
   "name": "python"
  }
 },
 "nbformat": 4,
 "nbformat_minor": 2
}
