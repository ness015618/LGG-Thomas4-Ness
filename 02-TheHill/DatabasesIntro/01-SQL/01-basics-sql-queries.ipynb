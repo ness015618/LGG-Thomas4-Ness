{
 "cells": [
  {
   "cell_type": "markdown",
   "metadata": {},
   "source": [
    "# SQL: Basic queries on relational databases\n",
    "\n",
    "## Relational databases: Review\n",
    "\n",
    "A **relational database** is a way of structuring information in tables, rows, and columns. You could compare it to an excel file (database) with several sheets (tables) that contain tabular data (rows and columns). The particularity of this database is its ability to create relationships between those tables by joining them.\n",
    "\n",
    "What is a `join`? Let's take an example by looking at the schema of a database of a music producer. You can see here that certain fields are common between several tables.\n",
    "\n",
    "For example: `ArtistID` exists in `artists` and in `albums`. Consequently the information from an artist can be included (_joined_) to the information of his/her albums.\n",
    "\n",
    "<img src=\"https://www.sqlitetutorial.net/wp-content/uploads/2015/11/sqlite-sample-database-color.jpg\" />\n",
    "\n",
    "SQL (Structured Query Language) is one of the most common languages for interacting with a relational database. It allows you to perform efficient and precise queries on the database, including queries among different tables.\n",
    "\n",
    "SQL mainly allows you to `select`, `insert`, `update` or `delete` data from the DB.\n",
    "\n",
    "Before diving in the exercises:\n",
    "\n",
    "- You can learn the basics of SQL language by practicing [this tutorial](https://www.w3schools.com/sql/sql_syntax.asp)\n",
    "- Try to understand the structure of the DB based on its schema. You will get more information about it [here](https://www.sqlitetutorial.net/sqlite-sample-database/)\n",
    "\n",
    "Now, let's do some exercices by using SQLite and the python module `sqlite3`. You don't need to install it, it is included in the Python distribution. Read more: [SQLite3 Documentation](https://docs.python.org/3/library/sqlite3.html).\n",
    "\n",
    "\n"
   ]
  },
  {
   "cell_type": "markdown",
   "metadata": {},
   "source": [
    "### Connection to the database\n",
    "\n",
    "We need to create a new database and open a database connection to allow `sqlite3` to work with it. Call `sqlite3.connect()` to create a connection to the database in the current working directory, implicitly creating it if it does not exist.\n",
    "\n",
    "In order to execute SQL statements and fetch results from SQL queries, we will need to use a database cursor. Call `con.cursor()` to create the `Cursor`."
   ]
  },
  {
   "cell_type": "code",
   "execution_count": 21,
   "metadata": {},
   "outputs": [],
   "source": [
    "import sqlite3\n",
    "\n",
    "connexion = sqlite3.connect(\"data/chinook.db\")\n",
    "cursor = connexion.cursor()"
   ]
  },
  {
   "cell_type": "markdown",
   "metadata": {},
   "source": [
    "## Basic Queries\n",
    "\n",
    "**1. Show the 10 first entries of the table `artists`**\n",
    "\n",
    "The basic command in SQL is `SELECT` which is used for retrieving elements of certain columns `FROM` a table. `SELECT` indicates the columns to retrieve. By using `*` we chose to get keep all the columns. The keyword `LIMIT` is used for retrieving only the first `n` rows from the table.\n",
    "\n",
    "You can use `cursor.execute()` to execute that query and call `cursor.fetchall()` to fetch the resulting rows.\n"
   ]
  },
  {
   "cell_type": "code",
   "execution_count": 3,
   "metadata": {},
   "outputs": [
    {
     "data": {
      "text/plain": [
       "[(1, 'AC/DC'),\n",
       " (2, 'Accept'),\n",
       " (3, 'Aerosmith'),\n",
       " (4, 'Alanis Morissette'),\n",
       " (5, 'Alice In Chains'),\n",
       " (6, 'Antônio Carlos Jobim'),\n",
       " (7, 'Apocalyptica'),\n",
       " (8, 'Audioslave'),\n",
       " (9, 'BackBeat'),\n",
       " (10, 'Billy Cobham')]"
      ]
     },
     "execution_count": 3,
     "metadata": {},
     "output_type": "execute_result"
    }
   ],
   "source": [
    "cursor.execute(\"\"\"\n",
    "    SELECT\n",
    "        *\n",
    "    FROM\n",
    "        artists\n",
    "    LIMIT 10;\n",
    "\"\"\")\n",
    "cursor.fetchall()"
   ]
  },
  {
   "cell_type": "markdown",
   "metadata": {},
   "source": [
    "**2. Find the ID of Aerosmith** \n",
    "\n",
    "Let's introduce here conditions by using the keyword `WHERE`. The goal is to retrieve only the rows that meet a given condition.\n",
    "\n",
    "Here we will retrive here the column `artistId` from the table `artists` for the entries whose the name is `Aerosmith`."
   ]
  },
  {
   "cell_type": "code",
   "execution_count": 4,
   "metadata": {
    "tags": []
   },
   "outputs": [
    {
     "data": {
      "text/plain": [
       "3"
      ]
     },
     "execution_count": 4,
     "metadata": {},
     "output_type": "execute_result"
    }
   ],
   "source": [
    "query1 = f\"\"\"\n",
    "    SELECT\n",
    "        artistId\n",
    "    FROM\n",
    "        artists\n",
    "    WHERE\n",
    "        name = 'Aerosmith';\n",
    "\"\"\"\n",
    "cursor.execute(query1)\n",
    "artist_id = cursor.fetchone()[0]\n",
    "\n",
    "artist_id"
   ]
  },
  {
   "cell_type": "markdown",
   "metadata": {},
   "source": [
    "**3. Find the IDs of the albums of Aerosmith**\n",
    "\n",
    "Now that we have the `artistId` of Aerosmith we can use it in another query. We will retrieve the field `albumId` for the rows from album whose `artistId` is the one of Aerosmith."
   ]
  },
  {
   "cell_type": "code",
   "execution_count": 5,
   "metadata": {
    "tags": []
   },
   "outputs": [
    {
     "name": "stdout",
     "output_type": "stream",
     "text": [
      "['5']\n"
     ]
    }
   ],
   "source": [
    "query2 = f\"\"\"\n",
    "    SELECT\n",
    "        albumId\n",
    "    FROM \n",
    "        albums \n",
    "    WHERE \n",
    "        artistId = '{artist_id}';\n",
    "\"\"\"\n",
    "albums_ids = []\n",
    "for row in cursor.execute(query2):\n",
    "    albums_ids.append(str(row[0]))\n",
    "\n",
    "#print(type(cursor.execute(query2))) \n",
    "#print(cursor.execute(query2))\n",
    "print(albums_ids)"
   ]
  },
  {
   "cell_type": "markdown",
   "metadata": {},
   "source": [
    "**4. Find the track names of the albums of Aerosmith**\n",
    "\n",
    "Now that we have the ids of all the albums of Aerosmith we can look for the tracks that are in those albums. We will introduce here the `DISTINCT` keyword that will retrieve unique values only.\n"
   ]
  },
  {
   "cell_type": "code",
   "execution_count": 6,
   "metadata": {
    "tags": []
   },
   "outputs": [
    {
     "name": "stdout",
     "output_type": "stream",
     "text": [
      "Walk On Water\n",
      "Love In An Elevator\n",
      "Rag Doll\n",
      "What It Takes\n",
      "Dude (Looks Like A Lady)\n",
      "Janie's Got A Gun\n",
      "Cryin'\n",
      "Amazing\n",
      "Blind Man\n",
      "Deuces Are Wild\n",
      "The Other Side\n",
      "Crazy\n",
      "Eat The Rich\n",
      "Angel\n",
      "Livin' On The Edge\n"
     ]
    }
   ],
   "source": [
    "query3 = f\"\"\"\n",
    "    SELECT\n",
    "        DISTINCT name\n",
    "    FROM\n",
    "        tracks\n",
    "    WHERE \n",
    "        albumId IN ({\",\".join(albums_ids)}); \n",
    "\"\"\"\n",
    "\n",
    "for row in cursor.execute(query3):\n",
    "    print(row[0])"
   ]
  },
  {
   "cell_type": "markdown",
   "metadata": {},
   "source": [
    "**5. Put that in a single query!**\n",
    "\n",
    "Let's do everything we have done so far in a single query.\n",
    "\n",
    "Before that it is important to understand the concept of `PRIMARY KEY` and `FOREIGN KEY`:\n",
    "\n",
    "- **Primary Keys** are fields that are **unique** and cannot be null. It uniquely identifies each record in a table (in general this is the `id` of the item). Each table can have zero or one primary key (not more). This key can consist of one or multiple columns. \n",
    "- **Foreign Keys** are fields in one table that refer to the primary key of another table. One table can contain multiple foreign keys.\n",
    "\n",
    "Let's take an example: \n",
    "* In our dataset the table `artists` has `artistId` as primary key. The table `albums` uses `artistId` as a foreign key to refer to the table `artists`. \n",
    "* The idea of joining table is based on that: we will use the `JOIN` keyword in order to put information from different tables together by using common keys. \n",
    "* The keyword `ON` will specify which keys will be used to join the tables."
   ]
  },
  {
   "cell_type": "code",
   "execution_count": 7,
   "metadata": {},
   "outputs": [
    {
     "name": "stdout",
     "output_type": "stream",
     "text": [
      "23 Walk On Water\n",
      "24 Love In An Elevator\n",
      "25 Rag Doll\n",
      "26 What It Takes\n",
      "27 Dude (Looks Like A Lady)\n",
      "28 Janie's Got A Gun\n",
      "29 Cryin'\n",
      "30 Amazing\n",
      "31 Blind Man\n",
      "32 Deuces Are Wild\n",
      "33 The Other Side\n",
      "34 Crazy\n",
      "35 Eat The Rich\n",
      "36 Angel\n",
      "37 Livin' On The Edge\n"
     ]
    }
   ],
   "source": [
    "query4 = f\"\"\"\n",
    "    SELECT\n",
    "        DISTINCT tracks.trackId, tracks.name\n",
    "    FROM\n",
    "        artists\n",
    "        JOIN albums ON artists.artistId = albums.artistId\n",
    "        JOIN tracks ON albums.albumId = tracks.albumId\n",
    "    WHERE \n",
    "        artists.name = 'Aerosmith';\n",
    "\"\"\"\n",
    "\n",
    "songs = set()\n",
    "for row in cursor.execute(query4):\n",
    "    print(row[0],row[1])\n",
    "    "
   ]
  },
  {
   "cell_type": "markdown",
   "metadata": {},
   "source": [
    "**6. Get the most productive artists**\n",
    "\n",
    "Let's count the number of albums by artist by using `GROUP BY`. We will select the artists and group all the albums they have released.\n",
    "\n",
    "`COUNT` will count the number of albums and `AS` will give a variable name to the counter (`nb_albums`).\n",
    "\n",
    "`ORDER BY` will rank the results according to the variable `nb_albums`. `DESC` gives the orientation of the rank (in that case: descending)\n",
    "\n",
    "`LIMIT` will show only the first results of the ranking (i.e. the most productive artists)."
   ]
  },
  {
   "cell_type": "code",
   "execution_count": 8,
   "metadata": {},
   "outputs": [
    {
     "data": {
      "text/plain": [
       "[('Iron Maiden', 21),\n",
       " ('Led Zeppelin', 14),\n",
       " ('Deep Purple', 11),\n",
       " ('Metallica', 10),\n",
       " ('U2', 10),\n",
       " ('Ozzy Osbourne', 6),\n",
       " ('Pearl Jam', 5),\n",
       " ('Various Artists', 4),\n",
       " ('Faith No More', 4),\n",
       " ('Foo Fighters', 4)]"
      ]
     },
     "execution_count": 8,
     "metadata": {},
     "output_type": "execute_result"
    }
   ],
   "source": [
    "query5 = \"\"\"\n",
    "    SELECT\n",
    "        artists.Name,\n",
    "        count(*) AS nb_albums\n",
    "    FROM\n",
    "        artists\n",
    "        JOIN albums on albums.ArtistId = artists.ArtistId\n",
    "    GROUP BY\n",
    "        artists.ArtistId\n",
    "    ORDER BY\n",
    "        nb_albums DESC\n",
    "    LIMIT 10;\n",
    "\n",
    "\"\"\"\n",
    "cursor.execute(query5)\n",
    "cursor.fetchall()"
   ]
  },
  {
   "cell_type": "markdown",
   "metadata": {},
   "source": [
    "#### Your turn!\n",
    "\n",
    "Based on your knowledge and some Google search try to create the following queries:\n",
    "\n",
    "- Count the number of tracks for all the albums of AC/DC\n",
    "- List all the artists doing 'Metal' (genre)\n",
    "- List the top 10 of invoiced countries\n",
    "- Calculate the total amount billed to each customer"
   ]
  },
  {
   "cell_type": "code",
   "execution_count": 9,
   "metadata": {},
   "outputs": [
    {
     "data": {
      "text/plain": [
       "[(18,)]"
      ]
     },
     "execution_count": 9,
     "metadata": {},
     "output_type": "execute_result"
    }
   ],
   "source": [
    "# Count the number of tracks for all the albums of AC/DC\n",
    "query6 = f\"\"\"\n",
    "    SELECT \n",
    "        count(*)\n",
    "    FROM\n",
    "        artists\n",
    "        JOIN albums ON artists.ArtistId = albums.ArtistId\n",
    "        JOIN tracks ON albums.AlbumId = tracks.AlbumId\n",
    "    WHERE\n",
    "        artists.Name = 'AC/DC';\n",
    "\"\"\"\n",
    "\n",
    "cursor.execute(query6)\n",
    "cursor.fetchall()"
   ]
  },
  {
   "cell_type": "code",
   "execution_count": 10,
   "metadata": {},
   "outputs": [
    {
     "name": "stdout",
     "output_type": "stream",
     "text": [
      "Apocalyptica\n",
      "Black Label Society\n",
      "Black Sabbath\n",
      "Bruce Dickinson\n",
      "Metallica\n",
      "Godsmack\n",
      "Guns N' Roses\n",
      "Iron Maiden\n",
      "Judas Priest\n",
      "Motörhead\n",
      "Mötley Crüe\n",
      "Ozzy Osbourne\n",
      "System Of A Down\n",
      "Lenny Kravitz\n"
     ]
    }
   ],
   "source": [
    "# List all the artists doing 'Metal' (genre)\n",
    "query7 = \"\"\"\n",
    "    SELECT\n",
    "        DISTINCT artists.Name\n",
    "    FROM\n",
    "        artists\n",
    "        JOIN albums ON artists.ArtistId = albums.ArtistId\n",
    "        JOIN tracks ON albums.AlbumId = tracks.AlbumId\n",
    "        JOIN genres ON tracks.GenreId = genres.GenreId  \n",
    "    WHERE\n",
    "        genres.Name = 'Metal';\n",
    "\"\"\"\n",
    "for row in cursor.execute(query7):\n",
    "    print(row[0])\n"
   ]
  },
  {
   "cell_type": "code",
   "execution_count": 11,
   "metadata": {},
   "outputs": [
    {
     "name": "stdout",
     "output_type": "stream",
     "text": [
      "Column Names: ['InvoiceId', 'CustomerId', 'InvoiceDate', 'BillingAddress', 'BillingCity', 'BillingState', 'BillingCountry', 'BillingPostalCode', 'Total']\n"
     ]
    }
   ],
   "source": [
    "query9 = \"PRAGMA table_info(invoices);\"\n",
    "cursor.execute(query9)\n",
    "columns_info = cursor.fetchall()\n",
    "column_names = [column[1] for column in columns_info]\n",
    "print(\"Column Names:\", column_names)"
   ]
  },
  {
   "cell_type": "code",
   "execution_count": 12,
   "metadata": {},
   "outputs": [
    {
     "data": {
      "text/plain": [
       "[('USA', 91),\n",
       " ('Canada', 56),\n",
       " ('France', 35),\n",
       " ('Brazil', 35),\n",
       " ('Germany', 28),\n",
       " ('United Kingdom', 21),\n",
       " ('Portugal', 14),\n",
       " ('Czech Republic', 14),\n",
       " ('India', 13),\n",
       " ('Sweden', 7)]"
      ]
     },
     "execution_count": 12,
     "metadata": {},
     "output_type": "execute_result"
    }
   ],
   "source": [
    "# List the top 10 of invoiced countries\n",
    "query8 = \"\"\"\n",
    "    SELECT \n",
    "         invoices.BillingCountry,\n",
    "         count(*) AS invoices_per_country\n",
    "    FROM \n",
    "        invoices\n",
    "    GROUP BY\n",
    "         invoices.BillingCountry\n",
    "    ORDER BY\n",
    "        invoices_per_country DESC\n",
    "    LIMIT 10;\n",
    "\"\"\"\n",
    "cursor.execute(query8)\n",
    "cursor.fetchall()"
   ]
  },
  {
   "cell_type": "code",
   "execution_count": 22,
   "metadata": {},
   "outputs": [
    {
     "data": {
      "text/plain": [
       "[(1, 'Luís', 'Gonçalves', 39.62),\n",
       " (2, 'Leonie', 'Köhler', 37.62),\n",
       " (3, 'François', 'Tremblay', 39.62),\n",
       " (4, 'Bjørn', 'Hansen', 39.62),\n",
       " (5, 'František', 'Wichterlová', 40.62),\n",
       " (6, 'Helena', 'Holý', 49.62),\n",
       " (7, 'Astrid', 'Gruber', 42.62),\n",
       " (8, 'Daan', 'Peeters', 37.62),\n",
       " (9, 'Kara', 'Nielsen', 37.62),\n",
       " (10, 'Eduardo', 'Martins', 37.62),\n",
       " (11, 'Alexandre', 'Rocha', 37.62),\n",
       " (12, 'Roberto', 'Almeida', 37.62),\n",
       " (13, 'Fernanda', 'Ramos', 37.62),\n",
       " (14, 'Mark', 'Philips', 37.62),\n",
       " (15, 'Jennifer', 'Peterson', 38.62),\n",
       " (16, 'Frank', 'Harris', 37.62),\n",
       " (17, 'Jack', 'Smith', 39.62),\n",
       " (18, 'Michelle', 'Brooks', 37.62),\n",
       " (19, 'Tim', 'Goyer', 38.62),\n",
       " (20, 'Dan', 'Miller', 39.62),\n",
       " (21, 'Kathy', 'Chase', 37.62),\n",
       " (22, 'Heather', 'Leacock', 39.62),\n",
       " (23, 'John', 'Gordon', 37.62),\n",
       " (24, 'Frank', 'Ralston', 43.62),\n",
       " (25, 'Victor', 'Stevens', 42.62),\n",
       " (26, 'Richard', 'Cunningham', 47.62),\n",
       " (27, 'Patrick', 'Gray', 37.62),\n",
       " (28, 'Julia', 'Barnett', 43.62),\n",
       " (29, 'Robert', 'Brown', 37.62),\n",
       " (30, 'Edward', 'Francis', 37.62),\n",
       " (31, 'Martha', 'Silk', 37.62),\n",
       " (32, 'Aaron', 'Mitchell', 37.62),\n",
       " (33, 'Ellie', 'Sullivan', 37.62),\n",
       " (34, 'João', 'Fernandes', 39.62),\n",
       " (35, 'Madalena', 'Sampaio', 37.62),\n",
       " (36, 'Hannah', 'Schneider', 37.62),\n",
       " (37, 'Fynn', 'Zimmermann', 43.62),\n",
       " (38, 'Niklas', 'Schröder', 37.62),\n",
       " (39, 'Camille', 'Bernard', 38.62),\n",
       " (40, 'Dominique', 'Lefebvre', 38.62),\n",
       " (41, 'Marc', 'Dubois', 37.62),\n",
       " (42, 'Wyatt', 'Girard', 39.62),\n",
       " (43, 'Isabelle', 'Mercier', 40.62),\n",
       " (44, 'Terhi', 'Hämäläinen', 41.62),\n",
       " (45, 'Ladislav', 'Kovács', 45.62),\n",
       " (46, 'Hugh', \"O'Reilly\", 45.62),\n",
       " (47, 'Lucas', 'Mancini', 37.62),\n",
       " (48, 'Johannes', 'Van der Berg', 40.62),\n",
       " (49, 'Stanisław', 'Wójcik', 37.62),\n",
       " (50, 'Enrique', 'Muñoz', 37.62),\n",
       " (51, 'Joakim', 'Johansson', 38.62),\n",
       " (52, 'Emma', 'Jones', 37.62),\n",
       " (53, 'Phil', 'Hughes', 37.62),\n",
       " (54, 'Steve', 'Murray', 37.62),\n",
       " (55, 'Mark', 'Taylor', 37.62),\n",
       " (56, 'Diego', 'Gutiérrez', 37.62),\n",
       " (57, 'Luis', 'Rojas', 46.62),\n",
       " (58, 'Manoj', 'Pareek', 38.62),\n",
       " (59, 'Puja', 'Srivastava', 36.64)]"
      ]
     },
     "execution_count": 22,
     "metadata": {},
     "output_type": "execute_result"
    }
   ],
   "source": [
    "# Calculate the total amount billed to each customer\n",
    "query9 = \"\"\" \n",
    "    SELECT \n",
    "        customers.CustomerId,\n",
    "        customers.FirstName,\n",
    "        customers.LastName,\n",
    "        SUM(invoices.Total)\n",
    "    FROM\n",
    "        customers\n",
    "        JOIN invoices ON invoices.CustomerId = customers.CustomerId\n",
    "    WHERE\n",
    "        invoices.CustomerId = customers.CustomerId\n",
    "    GROUP BY\n",
    "        invoices.CustomerId;\n",
    "\"\"\"\n",
    "\n",
    "#for row in cursor.execute(query9):\n",
    "#    print(row[0],\"-\", row[1], row[2], \":\", row[3])\n",
    "    \n",
    "cursor.execute(query9)\n",
    "cursor.fetchall()\n"
   ]
  },
  {
   "cell_type": "markdown",
   "metadata": {},
   "source": [
    "## Resources\n",
    "\n",
    "- [Top 70 most important queries](https://bytescout.com/blog/20-important-sql-queries.html)\n",
    "- [SQL Murder Mystery](https://mystery.knightlab.com/): Use SQL to find the MURDERER\n",
    "- [TablePlus](https://tableplus.com/): A nice editor for SQL queries\n",
    "- [SQL Fundamentals ](https://app.datacamp.com/learn/skill-tracks/sql-fundamentals)(DataCamp Track, 5 courses)\n",
    "- [SQL for Business Analysts ](https://app.datacamp.com/learn/skill-tracks/sql-for-business-analysts)(DataCamp Track, 5 courses)\n",
    "- [Data Analyst in SQL ](https://app.datacamp.com/learn/career-tracks/data-analyst-in-sql)(DataCamp Track, 12 courses)\n",
    "- [The 80 Top SQL Interview Questions and Answers for Beginners & Intermediate Practitioners](https://www.datacamp.com/blog/top-sql-interview-questions-and-answers-for-beginners-and-intermediate-practitioners)"
   ]
  }
 ],
 "metadata": {
  "kernelspec": {
   "display_name": "Python 3.9.13 64-bit (microsoft store)",
   "language": "python",
   "name": "python3"
  },
  "language_info": {
   "codemirror_mode": {
    "name": "ipython",
    "version": 3
   },
   "file_extension": ".py",
   "mimetype": "text/x-python",
   "name": "python",
   "nbconvert_exporter": "python",
   "pygments_lexer": "ipython3",
   "version": "3.12.3"
  },
  "vscode": {
   "interpreter": {
    "hash": "5af58ead5434bcaec4ba320c097b4ab95f4d47b5cc097d838e053a401accc545"
   }
  }
 },
 "nbformat": 4,
 "nbformat_minor": 4
}
