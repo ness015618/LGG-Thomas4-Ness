{
 "cells": [
  {
   "cell_type": "markdown",
   "metadata": {},
   "source": [
    "# Data preprocessing using pandas and scikit-learn"
   ]
  },
  {
   "cell_type": "markdown",
   "metadata": {},
   "source": [
    "### Feature selection\n",
    "\n",
    "Data preprocessing is most always the step before training a machine learning model. There are features that are not very useful for predicting a given outcome. For example, including an `id` field which uniquely identifies each sample does not make much sense. \n",
    "Thus, such variables can be safely deleted.\n"
   ]
  },
  {
   "cell_type": "code",
   "execution_count": 24,
   "metadata": {},
   "outputs": [],
   "source": [
    "import pandas as pd\n",
    "from matplotlib import pyplot as plt"
   ]
  },
  {
   "cell_type": "code",
   "execution_count": 25,
   "metadata": {},
   "outputs": [],
   "source": [
    "filename = \"nyc_squirrels.csv\"\n",
    "df = pd.read_csv(filename)"
   ]
  },
  {
   "cell_type": "markdown",
   "metadata": {},
   "source": [
    "Again, we'll ask you do to a bit of work yourself. This time, we ask you to drop unnecessary columns."
   ]
  },
  {
   "cell_type": "code",
   "execution_count": 26,
   "metadata": {},
   "outputs": [
    {
     "data": {
      "text/plain": [
       "Index(['X', 'Y', 'Unique Squirrel ID', 'Hectare', 'Shift', 'Date',\n",
       "       'Hectare Squirrel Number', 'Age', 'Primary Fur Color',\n",
       "       'Highlight Fur Color', 'Combination of Primary and Highlight Color',\n",
       "       'Color notes', 'Location', 'Above Ground Sighter Measurement',\n",
       "       'Specific Location', 'Running', 'Chasing', 'Climbing', 'Eating',\n",
       "       'Foraging', 'Other Activities', 'Kuks', 'Quaas', 'Moans', 'Tail flags',\n",
       "       'Tail twitches', 'Approaches', 'Indifferent', 'Runs from',\n",
       "       'Other Interactions', 'Lat/Long'],\n",
       "      dtype='object')"
      ]
     },
     "execution_count": 26,
     "metadata": {},
     "output_type": "execute_result"
    }
   ],
   "source": [
    "df.columns"
   ]
  },
  {
   "cell_type": "code",
   "execution_count": 27,
   "metadata": {},
   "outputs": [],
   "source": [
    "# Drop the \"Unique Squirrel ID\" column\n",
    "df.drop(columns=\"Unique Squirrel ID\", inplace=True)"
   ]
  },
  {
   "cell_type": "code",
   "execution_count": 28,
   "metadata": {},
   "outputs": [
    {
     "data": {
      "text/plain": [
       "Index(['X', 'Y', 'Hectare', 'Shift', 'Date', 'Hectare Squirrel Number', 'Age',\n",
       "       'Primary Fur Color', 'Highlight Fur Color',\n",
       "       'Combination of Primary and Highlight Color', 'Color notes', 'Location',\n",
       "       'Above Ground Sighter Measurement', 'Specific Location', 'Running',\n",
       "       'Chasing', 'Climbing', 'Eating', 'Foraging', 'Other Activities', 'Kuks',\n",
       "       'Quaas', 'Moans', 'Tail flags', 'Tail twitches', 'Approaches',\n",
       "       'Indifferent', 'Runs from', 'Other Interactions', 'Lat/Long'],\n",
       "      dtype='object')"
      ]
     },
     "execution_count": 28,
     "metadata": {},
     "output_type": "execute_result"
    }
   ],
   "source": [
    "df.columns"
   ]
  },
  {
   "cell_type": "markdown",
   "metadata": {},
   "source": [
    "### Feature slicing\n",
    "Feature slicing is the act of *slicing* a feature into multiple different features.\n",
    "For example, we can slice the `Date` into day, month, and year.\n"
   ]
  },
  {
   "cell_type": "code",
   "execution_count": 29,
   "metadata": {},
   "outputs": [
    {
     "data": {
      "text/plain": [
       "0    10142018\n",
       "1    10192018\n",
       "2    10142018\n",
       "3    10172018\n",
       "4    10172018\n",
       "Name: Date, dtype: int64"
      ]
     },
     "execution_count": 29,
     "metadata": {},
     "output_type": "execute_result"
    }
   ],
   "source": [
    "df[\"Date\"].head()"
   ]
  },
  {
   "cell_type": "code",
   "execution_count": 30,
   "metadata": {},
   "outputs": [
    {
     "data": {
      "text/html": [
       "<div>\n",
       "<style scoped>\n",
       "    .dataframe tbody tr th:only-of-type {\n",
       "        vertical-align: middle;\n",
       "    }\n",
       "\n",
       "    .dataframe tbody tr th {\n",
       "        vertical-align: top;\n",
       "    }\n",
       "\n",
       "    .dataframe thead th {\n",
       "        text-align: right;\n",
       "    }\n",
       "</style>\n",
       "<table border=\"1\" class=\"dataframe\">\n",
       "  <thead>\n",
       "    <tr style=\"text-align: right;\">\n",
       "      <th></th>\n",
       "      <th>X</th>\n",
       "      <th>Y</th>\n",
       "      <th>Hectare</th>\n",
       "      <th>Shift</th>\n",
       "      <th>Date</th>\n",
       "      <th>Hectare Squirrel Number</th>\n",
       "      <th>Age</th>\n",
       "      <th>Primary Fur Color</th>\n",
       "      <th>Highlight Fur Color</th>\n",
       "      <th>Combination of Primary and Highlight Color</th>\n",
       "      <th>...</th>\n",
       "      <th>Kuks</th>\n",
       "      <th>Quaas</th>\n",
       "      <th>Moans</th>\n",
       "      <th>Tail flags</th>\n",
       "      <th>Tail twitches</th>\n",
       "      <th>Approaches</th>\n",
       "      <th>Indifferent</th>\n",
       "      <th>Runs from</th>\n",
       "      <th>Other Interactions</th>\n",
       "      <th>Lat/Long</th>\n",
       "    </tr>\n",
       "  </thead>\n",
       "  <tbody>\n",
       "    <tr>\n",
       "      <th>0</th>\n",
       "      <td>-73.956134</td>\n",
       "      <td>40.794082</td>\n",
       "      <td>37F</td>\n",
       "      <td>PM</td>\n",
       "      <td>10142018</td>\n",
       "      <td>3</td>\n",
       "      <td>NaN</td>\n",
       "      <td>NaN</td>\n",
       "      <td>NaN</td>\n",
       "      <td>+</td>\n",
       "      <td>...</td>\n",
       "      <td>False</td>\n",
       "      <td>False</td>\n",
       "      <td>False</td>\n",
       "      <td>False</td>\n",
       "      <td>False</td>\n",
       "      <td>False</td>\n",
       "      <td>False</td>\n",
       "      <td>False</td>\n",
       "      <td>NaN</td>\n",
       "      <td>POINT (-73.9561344937861 40.7940823884086)</td>\n",
       "    </tr>\n",
       "    <tr>\n",
       "      <th>1</th>\n",
       "      <td>-73.968857</td>\n",
       "      <td>40.783783</td>\n",
       "      <td>21B</td>\n",
       "      <td>AM</td>\n",
       "      <td>10192018</td>\n",
       "      <td>4</td>\n",
       "      <td>NaN</td>\n",
       "      <td>NaN</td>\n",
       "      <td>NaN</td>\n",
       "      <td>+</td>\n",
       "      <td>...</td>\n",
       "      <td>False</td>\n",
       "      <td>False</td>\n",
       "      <td>False</td>\n",
       "      <td>False</td>\n",
       "      <td>False</td>\n",
       "      <td>False</td>\n",
       "      <td>False</td>\n",
       "      <td>False</td>\n",
       "      <td>NaN</td>\n",
       "      <td>POINT (-73.9688574691102 40.7837825208444)</td>\n",
       "    </tr>\n",
       "    <tr>\n",
       "      <th>2</th>\n",
       "      <td>-73.974281</td>\n",
       "      <td>40.775534</td>\n",
       "      <td>11B</td>\n",
       "      <td>PM</td>\n",
       "      <td>10142018</td>\n",
       "      <td>8</td>\n",
       "      <td>NaN</td>\n",
       "      <td>Gray</td>\n",
       "      <td>NaN</td>\n",
       "      <td>Gray+</td>\n",
       "      <td>...</td>\n",
       "      <td>False</td>\n",
       "      <td>False</td>\n",
       "      <td>False</td>\n",
       "      <td>False</td>\n",
       "      <td>False</td>\n",
       "      <td>False</td>\n",
       "      <td>False</td>\n",
       "      <td>False</td>\n",
       "      <td>NaN</td>\n",
       "      <td>POINT (-73.97428114848522 40.775533619083)</td>\n",
       "    </tr>\n",
       "    <tr>\n",
       "      <th>3</th>\n",
       "      <td>-73.959641</td>\n",
       "      <td>40.790313</td>\n",
       "      <td>32E</td>\n",
       "      <td>PM</td>\n",
       "      <td>10172018</td>\n",
       "      <td>14</td>\n",
       "      <td>Adult</td>\n",
       "      <td>Gray</td>\n",
       "      <td>NaN</td>\n",
       "      <td>Gray+</td>\n",
       "      <td>...</td>\n",
       "      <td>False</td>\n",
       "      <td>False</td>\n",
       "      <td>False</td>\n",
       "      <td>False</td>\n",
       "      <td>False</td>\n",
       "      <td>False</td>\n",
       "      <td>False</td>\n",
       "      <td>True</td>\n",
       "      <td>NaN</td>\n",
       "      <td>POINT (-73.9596413903948 40.7903128889029)</td>\n",
       "    </tr>\n",
       "    <tr>\n",
       "      <th>4</th>\n",
       "      <td>-73.970268</td>\n",
       "      <td>40.776213</td>\n",
       "      <td>13E</td>\n",
       "      <td>AM</td>\n",
       "      <td>10172018</td>\n",
       "      <td>5</td>\n",
       "      <td>Adult</td>\n",
       "      <td>Gray</td>\n",
       "      <td>Cinnamon</td>\n",
       "      <td>Gray+Cinnamon</td>\n",
       "      <td>...</td>\n",
       "      <td>False</td>\n",
       "      <td>False</td>\n",
       "      <td>False</td>\n",
       "      <td>False</td>\n",
       "      <td>False</td>\n",
       "      <td>False</td>\n",
       "      <td>False</td>\n",
       "      <td>False</td>\n",
       "      <td>NaN</td>\n",
       "      <td>POINT (-73.9702676472613 40.7762126854894)</td>\n",
       "    </tr>\n",
       "  </tbody>\n",
       "</table>\n",
       "<p>5 rows × 30 columns</p>\n",
       "</div>"
      ],
      "text/plain": [
       "           X          Y Hectare Shift      Date  Hectare Squirrel Number  \\\n",
       "0 -73.956134  40.794082     37F    PM  10142018                        3   \n",
       "1 -73.968857  40.783783     21B    AM  10192018                        4   \n",
       "2 -73.974281  40.775534     11B    PM  10142018                        8   \n",
       "3 -73.959641  40.790313     32E    PM  10172018                       14   \n",
       "4 -73.970268  40.776213     13E    AM  10172018                        5   \n",
       "\n",
       "     Age Primary Fur Color Highlight Fur Color  \\\n",
       "0    NaN               NaN                 NaN   \n",
       "1    NaN               NaN                 NaN   \n",
       "2    NaN              Gray                 NaN   \n",
       "3  Adult              Gray                 NaN   \n",
       "4  Adult              Gray            Cinnamon   \n",
       "\n",
       "  Combination of Primary and Highlight Color  ...   Kuks  Quaas  Moans  \\\n",
       "0                                          +  ...  False  False  False   \n",
       "1                                          +  ...  False  False  False   \n",
       "2                                      Gray+  ...  False  False  False   \n",
       "3                                      Gray+  ...  False  False  False   \n",
       "4                              Gray+Cinnamon  ...  False  False  False   \n",
       "\n",
       "  Tail flags  Tail twitches  Approaches  Indifferent  Runs from  \\\n",
       "0      False          False       False        False      False   \n",
       "1      False          False       False        False      False   \n",
       "2      False          False       False        False      False   \n",
       "3      False          False       False        False       True   \n",
       "4      False          False       False        False      False   \n",
       "\n",
       "   Other Interactions                                    Lat/Long  \n",
       "0                 NaN  POINT (-73.9561344937861 40.7940823884086)  \n",
       "1                 NaN  POINT (-73.9688574691102 40.7837825208444)  \n",
       "2                 NaN  POINT (-73.97428114848522 40.775533619083)  \n",
       "3                 NaN  POINT (-73.9596413903948 40.7903128889029)  \n",
       "4                 NaN  POINT (-73.9702676472613 40.7762126854894)  \n",
       "\n",
       "[5 rows x 30 columns]"
      ]
     },
     "execution_count": 30,
     "metadata": {},
     "output_type": "execute_result"
    }
   ],
   "source": [
    "df.head()"
   ]
  },
  {
   "cell_type": "markdown",
   "metadata": {},
   "source": [
    "Hint: use the `Series.apply()` method with a lambda function. [[Help]](https://www.analyticsvidhya.com/blog/2020/03/what-are-lambda-functions-in-python/)\n"
   ]
  },
  {
   "cell_type": "code",
   "execution_count": 31,
   "metadata": {},
   "outputs": [
    {
     "data": {
      "text/html": [
       "<div>\n",
       "<style scoped>\n",
       "    .dataframe tbody tr th:only-of-type {\n",
       "        vertical-align: middle;\n",
       "    }\n",
       "\n",
       "    .dataframe tbody tr th {\n",
       "        vertical-align: top;\n",
       "    }\n",
       "\n",
       "    .dataframe thead th {\n",
       "        text-align: right;\n",
       "    }\n",
       "</style>\n",
       "<table border=\"1\" class=\"dataframe\">\n",
       "  <thead>\n",
       "    <tr style=\"text-align: right;\">\n",
       "      <th></th>\n",
       "      <th>Date</th>\n",
       "      <th>Day</th>\n",
       "      <th>Month</th>\n",
       "      <th>Year</th>\n",
       "    </tr>\n",
       "  </thead>\n",
       "  <tbody>\n",
       "    <tr>\n",
       "      <th>0</th>\n",
       "      <td>10142018</td>\n",
       "      <td>14</td>\n",
       "      <td>10</td>\n",
       "      <td>2018</td>\n",
       "    </tr>\n",
       "    <tr>\n",
       "      <th>1</th>\n",
       "      <td>10192018</td>\n",
       "      <td>19</td>\n",
       "      <td>10</td>\n",
       "      <td>2018</td>\n",
       "    </tr>\n",
       "    <tr>\n",
       "      <th>2</th>\n",
       "      <td>10142018</td>\n",
       "      <td>14</td>\n",
       "      <td>10</td>\n",
       "      <td>2018</td>\n",
       "    </tr>\n",
       "    <tr>\n",
       "      <th>3</th>\n",
       "      <td>10172018</td>\n",
       "      <td>17</td>\n",
       "      <td>10</td>\n",
       "      <td>2018</td>\n",
       "    </tr>\n",
       "    <tr>\n",
       "      <th>4</th>\n",
       "      <td>10172018</td>\n",
       "      <td>17</td>\n",
       "      <td>10</td>\n",
       "      <td>2018</td>\n",
       "    </tr>\n",
       "  </tbody>\n",
       "</table>\n",
       "</div>"
      ],
      "text/plain": [
       "       Date Day Month  Year\n",
       "0  10142018  14    10  2018\n",
       "1  10192018  19    10  2018\n",
       "2  10142018  14    10  2018\n",
       "3  10172018  17    10  2018\n",
       "4  10172018  17    10  2018"
      ]
     },
     "execution_count": 31,
     "metadata": {},
     "output_type": "execute_result"
    }
   ],
   "source": [
    "# Split the feature \"Date\" into \"day\", \"month\" and \"year\" columns\n",
    "def split_date(date_int):\n",
    "    date_str = str(date_int)\n",
    "    month = date_str[:2]\n",
    "    day = date_str[2:4]\n",
    "    year = date_str[4:]\n",
    "    return month,day,year\n",
    "\n",
    "df[['Month','Day','Year']] = df[\"Date\"].apply(lambda x : pd.Series(split_date(x))) #pd.Series to split result into separate columns\n",
    "\n",
    "df[[\"Date\", \"Day\", \"Month\", \"Year\"]].head()"
   ]
  },
  {
   "cell_type": "markdown",
   "metadata": {},
   "source": [
    "### Feature engineering\n",
    "\n",
    "You can create new features based on the features you have. These might be more useful for your (future) machine learning model than the ones that are already present in the dataset.\n",
    "In this squirrel dataset, most of the fields encode the action taken by the squirrel when being approached by the human.\n",
    "We will combine them into a single feature `Reaction` with values `\"yes\"` and `\"no\"`."
   ]
  },
  {
   "cell_type": "code",
   "execution_count": 32,
   "metadata": {},
   "outputs": [
    {
     "data": {
      "text/plain": [
       "0        no\n",
       "1        no\n",
       "2        no\n",
       "3       yes\n",
       "4        no\n",
       "       ... \n",
       "3018    yes\n",
       "3019     no\n",
       "3020     no\n",
       "3021     no\n",
       "3022    yes\n",
       "Name: Reaction, Length: 3023, dtype: object"
      ]
     },
     "execution_count": 32,
     "metadata": {},
     "output_type": "execute_result"
    }
   ],
   "source": [
    "reaction_columns = [\"Kuks\", \"Quaas\", \"Moans\", \"Tail flags\",\n",
    "                    \"Tail twitches\", \"Approaches\", \"Runs from\",\n",
    "                    \"Other Interactions\"]\n",
    "\n",
    "df[\"Reaction\"] = df[reaction_columns].any(axis=1) #output : 3022 rows of \"False\" if all reaction columns are False, \"True\" otherwise\n",
    "df[\"Reaction\"] = df[\"Reaction\"].apply(lambda x: \"yes\" if x else \"no\")\n",
    "df[\"Reaction\"]"
   ]
  },
  {
   "cell_type": "markdown",
   "metadata": {},
   "source": [
    "A important step for a data processing pipeline is making the data understandable for machine learning algorithms. Most of them do not understand strings, like `yes` and `no` in our newly created column.\n",
    "We need to transform them to a binary format so that the machine learning model can take advantage of that feature.We are going to **One Hot Encode** our feature.\n"
   ]
  },
  {
   "cell_type": "code",
   "execution_count": 33,
   "metadata": {},
   "outputs": [
    {
     "data": {
      "text/html": [
       "<div>\n",
       "<style scoped>\n",
       "    .dataframe tbody tr th:only-of-type {\n",
       "        vertical-align: middle;\n",
       "    }\n",
       "\n",
       "    .dataframe tbody tr th {\n",
       "        vertical-align: top;\n",
       "    }\n",
       "\n",
       "    .dataframe thead th {\n",
       "        text-align: right;\n",
       "    }\n",
       "</style>\n",
       "<table border=\"1\" class=\"dataframe\">\n",
       "  <thead>\n",
       "    <tr style=\"text-align: right;\">\n",
       "      <th></th>\n",
       "      <th>A</th>\n",
       "      <th>B</th>\n",
       "      <th>C</th>\n",
       "    </tr>\n",
       "  </thead>\n",
       "  <tbody>\n",
       "    <tr>\n",
       "      <th>0</th>\n",
       "      <td>a</td>\n",
       "      <td>b</td>\n",
       "      <td>1</td>\n",
       "    </tr>\n",
       "    <tr>\n",
       "      <th>1</th>\n",
       "      <td>b</td>\n",
       "      <td>a</td>\n",
       "      <td>2</td>\n",
       "    </tr>\n",
       "    <tr>\n",
       "      <th>2</th>\n",
       "      <td>a</td>\n",
       "      <td>c</td>\n",
       "      <td>3</td>\n",
       "    </tr>\n",
       "  </tbody>\n",
       "</table>\n",
       "</div>"
      ],
      "text/plain": [
       "   A  B  C\n",
       "0  a  b  1\n",
       "1  b  a  2\n",
       "2  a  c  3"
      ]
     },
     "execution_count": 33,
     "metadata": {},
     "output_type": "execute_result"
    }
   ],
   "source": [
    "df_test = pd.DataFrame({'A': ['a', 'b', 'a'], 'B': ['b', 'a', 'c'], 'C': [1, 2, 3]})\n",
    "\n",
    "df_test"
   ]
  },
  {
   "cell_type": "code",
   "execution_count": 34,
   "metadata": {},
   "outputs": [
    {
     "data": {
      "text/html": [
       "<div>\n",
       "<style scoped>\n",
       "    .dataframe tbody tr th:only-of-type {\n",
       "        vertical-align: middle;\n",
       "    }\n",
       "\n",
       "    .dataframe tbody tr th {\n",
       "        vertical-align: top;\n",
       "    }\n",
       "\n",
       "    .dataframe thead th {\n",
       "        text-align: right;\n",
       "    }\n",
       "</style>\n",
       "<table border=\"1\" class=\"dataframe\">\n",
       "  <thead>\n",
       "    <tr style=\"text-align: right;\">\n",
       "      <th></th>\n",
       "      <th>C</th>\n",
       "      <th>col1_a</th>\n",
       "      <th>col1_b</th>\n",
       "      <th>col2_a</th>\n",
       "      <th>col2_b</th>\n",
       "      <th>col2_c</th>\n",
       "    </tr>\n",
       "  </thead>\n",
       "  <tbody>\n",
       "    <tr>\n",
       "      <th>0</th>\n",
       "      <td>1</td>\n",
       "      <td>True</td>\n",
       "      <td>False</td>\n",
       "      <td>False</td>\n",
       "      <td>True</td>\n",
       "      <td>False</td>\n",
       "    </tr>\n",
       "    <tr>\n",
       "      <th>1</th>\n",
       "      <td>2</td>\n",
       "      <td>False</td>\n",
       "      <td>True</td>\n",
       "      <td>True</td>\n",
       "      <td>False</td>\n",
       "      <td>False</td>\n",
       "    </tr>\n",
       "    <tr>\n",
       "      <th>2</th>\n",
       "      <td>3</td>\n",
       "      <td>True</td>\n",
       "      <td>False</td>\n",
       "      <td>False</td>\n",
       "      <td>False</td>\n",
       "      <td>True</td>\n",
       "    </tr>\n",
       "  </tbody>\n",
       "</table>\n",
       "</div>"
      ],
      "text/plain": [
       "   C  col1_a  col1_b  col2_a  col2_b  col2_c\n",
       "0  1    True   False   False    True   False\n",
       "1  2   False    True    True   False   False\n",
       "2  3    True   False   False   False    True"
      ]
     },
     "execution_count": 34,
     "metadata": {},
     "output_type": "execute_result"
    }
   ],
   "source": [
    "pd.get_dummies(df_test, prefix=['col1', 'col2'],drop_first=False)"
   ]
  },
  {
   "cell_type": "code",
   "execution_count": 35,
   "metadata": {},
   "outputs": [
    {
     "data": {
      "text/html": [
       "<div>\n",
       "<style scoped>\n",
       "    .dataframe tbody tr th:only-of-type {\n",
       "        vertical-align: middle;\n",
       "    }\n",
       "\n",
       "    .dataframe tbody tr th {\n",
       "        vertical-align: top;\n",
       "    }\n",
       "\n",
       "    .dataframe thead th {\n",
       "        text-align: right;\n",
       "    }\n",
       "</style>\n",
       "<table border=\"1\" class=\"dataframe\">\n",
       "  <thead>\n",
       "    <tr style=\"text-align: right;\">\n",
       "      <th></th>\n",
       "      <th>C</th>\n",
       "      <th>col1_b</th>\n",
       "      <th>col2_b</th>\n",
       "      <th>col2_c</th>\n",
       "    </tr>\n",
       "  </thead>\n",
       "  <tbody>\n",
       "    <tr>\n",
       "      <th>0</th>\n",
       "      <td>1</td>\n",
       "      <td>False</td>\n",
       "      <td>True</td>\n",
       "      <td>False</td>\n",
       "    </tr>\n",
       "    <tr>\n",
       "      <th>1</th>\n",
       "      <td>2</td>\n",
       "      <td>True</td>\n",
       "      <td>False</td>\n",
       "      <td>False</td>\n",
       "    </tr>\n",
       "    <tr>\n",
       "      <th>2</th>\n",
       "      <td>3</td>\n",
       "      <td>False</td>\n",
       "      <td>False</td>\n",
       "      <td>True</td>\n",
       "    </tr>\n",
       "  </tbody>\n",
       "</table>\n",
       "</div>"
      ],
      "text/plain": [
       "   C  col1_b  col2_b  col2_c\n",
       "0  1   False    True   False\n",
       "1  2    True   False   False\n",
       "2  3   False   False    True"
      ]
     },
     "execution_count": 35,
     "metadata": {},
     "output_type": "execute_result"
    }
   ],
   "source": [
    "pd.get_dummies(df_test, prefix=['col1', 'col2'],drop_first=True)\n",
    "#suppr : col1_a, col2_a"
   ]
  },
  {
   "cell_type": "code",
   "execution_count": 36,
   "metadata": {},
   "outputs": [
    {
     "data": {
      "text/html": [
       "<div>\n",
       "<style scoped>\n",
       "    .dataframe tbody tr th:only-of-type {\n",
       "        vertical-align: middle;\n",
       "    }\n",
       "\n",
       "    .dataframe tbody tr th {\n",
       "        vertical-align: top;\n",
       "    }\n",
       "\n",
       "    .dataframe thead th {\n",
       "        text-align: right;\n",
       "    }\n",
       "</style>\n",
       "<table border=\"1\" class=\"dataframe\">\n",
       "  <thead>\n",
       "    <tr style=\"text-align: right;\">\n",
       "      <th></th>\n",
       "      <th>C</th>\n",
       "      <th>A_a</th>\n",
       "      <th>A_b</th>\n",
       "      <th>B_a</th>\n",
       "      <th>B_b</th>\n",
       "      <th>B_c</th>\n",
       "    </tr>\n",
       "  </thead>\n",
       "  <tbody>\n",
       "    <tr>\n",
       "      <th>0</th>\n",
       "      <td>1</td>\n",
       "      <td>True</td>\n",
       "      <td>False</td>\n",
       "      <td>False</td>\n",
       "      <td>True</td>\n",
       "      <td>False</td>\n",
       "    </tr>\n",
       "    <tr>\n",
       "      <th>1</th>\n",
       "      <td>2</td>\n",
       "      <td>False</td>\n",
       "      <td>True</td>\n",
       "      <td>True</td>\n",
       "      <td>False</td>\n",
       "      <td>False</td>\n",
       "    </tr>\n",
       "    <tr>\n",
       "      <th>2</th>\n",
       "      <td>3</td>\n",
       "      <td>True</td>\n",
       "      <td>False</td>\n",
       "      <td>False</td>\n",
       "      <td>False</td>\n",
       "      <td>True</td>\n",
       "    </tr>\n",
       "  </tbody>\n",
       "</table>\n",
       "</div>"
      ],
      "text/plain": [
       "   C    A_a    A_b    B_a    B_b    B_c\n",
       "0  1   True  False  False   True  False\n",
       "1  2  False   True   True  False  False\n",
       "2  3   True  False  False  False   True"
      ]
     },
     "execution_count": 36,
     "metadata": {},
     "output_type": "execute_result"
    }
   ],
   "source": [
    "pd.get_dummies(df_test)"
   ]
  },
  {
   "cell_type": "markdown",
   "metadata": {},
   "source": [
    "### Personal notes\n",
    "\n",
    "- get_dummies() is used to convert CATEGORICAL variables into numerical ones. It thus won't have any effect on columns that are already numerical.\n",
    "- Each column is named after a value present in the dataset (with prefix if added).\n",
    "\n",
    "- This below will create 2 columns \"Reaction_yes\" and \"Reaction_no\". \"Reaction_yes\" will be true if column \"Reaction\" had a \"yes\" in this row. (\"Rection_no\" will thus always be opposite of \"Reaction_yes\".)"
   ]
  },
  {
   "cell_type": "code",
   "execution_count": 37,
   "metadata": {},
   "outputs": [
    {
     "data": {
      "text/html": [
       "<div>\n",
       "<style scoped>\n",
       "    .dataframe tbody tr th:only-of-type {\n",
       "        vertical-align: middle;\n",
       "    }\n",
       "\n",
       "    .dataframe tbody tr th {\n",
       "        vertical-align: top;\n",
       "    }\n",
       "\n",
       "    .dataframe thead th {\n",
       "        text-align: right;\n",
       "    }\n",
       "</style>\n",
       "<table border=\"1\" class=\"dataframe\">\n",
       "  <thead>\n",
       "    <tr style=\"text-align: right;\">\n",
       "      <th></th>\n",
       "      <th>Reaction_no</th>\n",
       "      <th>Reaction_yes</th>\n",
       "    </tr>\n",
       "  </thead>\n",
       "  <tbody>\n",
       "    <tr>\n",
       "      <th>0</th>\n",
       "      <td>True</td>\n",
       "      <td>False</td>\n",
       "    </tr>\n",
       "    <tr>\n",
       "      <th>1</th>\n",
       "      <td>True</td>\n",
       "      <td>False</td>\n",
       "    </tr>\n",
       "    <tr>\n",
       "      <th>2</th>\n",
       "      <td>True</td>\n",
       "      <td>False</td>\n",
       "    </tr>\n",
       "    <tr>\n",
       "      <th>3</th>\n",
       "      <td>False</td>\n",
       "      <td>True</td>\n",
       "    </tr>\n",
       "    <tr>\n",
       "      <th>4</th>\n",
       "      <td>True</td>\n",
       "      <td>False</td>\n",
       "    </tr>\n",
       "    <tr>\n",
       "      <th>...</th>\n",
       "      <td>...</td>\n",
       "      <td>...</td>\n",
       "    </tr>\n",
       "    <tr>\n",
       "      <th>3018</th>\n",
       "      <td>False</td>\n",
       "      <td>True</td>\n",
       "    </tr>\n",
       "    <tr>\n",
       "      <th>3019</th>\n",
       "      <td>True</td>\n",
       "      <td>False</td>\n",
       "    </tr>\n",
       "    <tr>\n",
       "      <th>3020</th>\n",
       "      <td>True</td>\n",
       "      <td>False</td>\n",
       "    </tr>\n",
       "    <tr>\n",
       "      <th>3021</th>\n",
       "      <td>True</td>\n",
       "      <td>False</td>\n",
       "    </tr>\n",
       "    <tr>\n",
       "      <th>3022</th>\n",
       "      <td>False</td>\n",
       "      <td>True</td>\n",
       "    </tr>\n",
       "  </tbody>\n",
       "</table>\n",
       "<p>3023 rows × 2 columns</p>\n",
       "</div>"
      ],
      "text/plain": [
       "      Reaction_no  Reaction_yes\n",
       "0            True         False\n",
       "1            True         False\n",
       "2            True         False\n",
       "3           False          True\n",
       "4            True         False\n",
       "...           ...           ...\n",
       "3018        False          True\n",
       "3019         True         False\n",
       "3020         True         False\n",
       "3021         True         False\n",
       "3022        False          True\n",
       "\n",
       "[3023 rows x 2 columns]"
      ]
     },
     "execution_count": 37,
     "metadata": {},
     "output_type": "execute_result"
    }
   ],
   "source": [
    "pd.get_dummies(df.Reaction, prefix=\"Reaction\")"
   ]
  },
  {
   "cell_type": "markdown",
   "metadata": {},
   "source": [
    "However, we have a redundancy here, as we could just transform `\"yes\"` to `1` and `\"no\"` to `0` in our `\"Reaction\"` column. This can be done by setting the argument `drop_first` to `True`.\n",
    "\n",
    "NB : drop_first=True supprime la première réponse présente (ici, \"no\")\n",
    "\n",
    "Le code ci-dessous produira donc une colonne \"Reaction_yes\" qui sera ensuite renommée \"Reaction\"."
   ]
  },
  {
   "cell_type": "code",
   "execution_count": 38,
   "metadata": {},
   "outputs": [
    {
     "data": {
      "text/html": [
       "<div>\n",
       "<style scoped>\n",
       "    .dataframe tbody tr th:only-of-type {\n",
       "        vertical-align: middle;\n",
       "    }\n",
       "\n",
       "    .dataframe tbody tr th {\n",
       "        vertical-align: top;\n",
       "    }\n",
       "\n",
       "    .dataframe thead th {\n",
       "        text-align: right;\n",
       "    }\n",
       "</style>\n",
       "<table border=\"1\" class=\"dataframe\">\n",
       "  <thead>\n",
       "    <tr style=\"text-align: right;\">\n",
       "      <th></th>\n",
       "      <th>Reaction</th>\n",
       "    </tr>\n",
       "  </thead>\n",
       "  <tbody>\n",
       "    <tr>\n",
       "      <th>0</th>\n",
       "      <td>False</td>\n",
       "    </tr>\n",
       "    <tr>\n",
       "      <th>1</th>\n",
       "      <td>False</td>\n",
       "    </tr>\n",
       "    <tr>\n",
       "      <th>2</th>\n",
       "      <td>False</td>\n",
       "    </tr>\n",
       "    <tr>\n",
       "      <th>3</th>\n",
       "      <td>True</td>\n",
       "    </tr>\n",
       "    <tr>\n",
       "      <th>4</th>\n",
       "      <td>False</td>\n",
       "    </tr>\n",
       "    <tr>\n",
       "      <th>...</th>\n",
       "      <td>...</td>\n",
       "    </tr>\n",
       "    <tr>\n",
       "      <th>3018</th>\n",
       "      <td>True</td>\n",
       "    </tr>\n",
       "    <tr>\n",
       "      <th>3019</th>\n",
       "      <td>False</td>\n",
       "    </tr>\n",
       "    <tr>\n",
       "      <th>3020</th>\n",
       "      <td>False</td>\n",
       "    </tr>\n",
       "    <tr>\n",
       "      <th>3021</th>\n",
       "      <td>False</td>\n",
       "    </tr>\n",
       "    <tr>\n",
       "      <th>3022</th>\n",
       "      <td>True</td>\n",
       "    </tr>\n",
       "  </tbody>\n",
       "</table>\n",
       "<p>3023 rows × 1 columns</p>\n",
       "</div>"
      ],
      "text/plain": [
       "      Reaction\n",
       "0        False\n",
       "1        False\n",
       "2        False\n",
       "3         True\n",
       "4        False\n",
       "...        ...\n",
       "3018      True\n",
       "3019     False\n",
       "3020     False\n",
       "3021     False\n",
       "3022      True\n",
       "\n",
       "[3023 rows x 1 columns]"
      ]
     },
     "execution_count": 38,
     "metadata": {},
     "output_type": "execute_result"
    }
   ],
   "source": [
    "df = pd.get_dummies(df.Reaction, prefix=\"Reaction\", drop_first=True)\n",
    "df.rename(columns={\"Reaction_yes\": \"Reaction\"})"
   ]
  },
  {
   "cell_type": "markdown",
   "metadata": {},
   "source": [
    "\n",
    "Similar things can be done after converting the data frame to an array using the `scikit-learn` library with `LabelBinarizer` or `OneHotEncoder`."
   ]
  },
  {
   "cell_type": "markdown",
   "metadata": {},
   "source": [
    "## Feature normalization or standardization\n",
    "Although they are sometimes used interchangeably, normalization and standardization are two different ways to bring a column of values to a common scale.\n",
    "In this section, we're going to use the word normalization to refer to this concept.\n",
    "\n",
    "Why do we normalize data ?\n",
    "\n",
    "*For example, assume your input dataset contains one column with values ranging from 0 to 1, and another column with values ranging from 10,000 to 100,000. The great difference in the scale of the numbers could cause problems when you attempt to combine the values as features during modeling.* [[Source]](https://docs.microsoft.com/en-us/azure/machine-learning/studio-module-reference/normalize-data)\n",
    "\n",
    "Some algorithms require that data be normalized before training a model. Other algorithms perform their own data scaling or normalization.\n",
    "\n",
    "Given a column of values *x*, if we choose to scale them, there are a few options:\n",
    "\n",
    "- Normalization, also called *min-max scaling*, rescales every value to a range between [0, 1]. The maximum and the minimum are computed for each column separately.\n",
    "\n",
    "  $$ z = \\frac{x - min(x)}{max(x) - min(x)} $$\n",
    "\n",
    "- Standardization, also called z-score normalization, rescales the value around a 0 mean and a standard deviation of 1. It essentially transforms all values of *x* to a *z-score*. Mean and standard deviation are computed for each column separately.\n",
    "\n",
    "$$ z = \\frac{x - mean(x)}{std(x)} $$\n",
    "\n",
    "\n",
    "### Be careful!\n",
    "\n",
    "When you want to normalize your dataset, you have to do so **AFTER** splitting your data into different train-test splits. Indeed, normalizing your data before would use some information from your testing set in the training set, thus biasing the model.\n",
    "Indeed, in a real world scenario, you would not have access to the testing set, as this would be the data that you are meant to predict.\n",
    "\n",
    "The procedure is the following:\n",
    "1. Split your data into train and test\n",
    "2. For every variable $x$ of your **training set**, compute $max(x_{train})$ and $min(x_{train})$ , or $mean(x_{train})$ and $std(x_{train})$ depending if you do min-max scaling or z-score-normalization.\n",
    "3. Normalize your training set and your testing set using these values (here I'm only showing the testing set).\n",
    "$$ z_{test} = \\frac{x_{test} - min(x_{train})}{max(x_{train}) - min(x_{train})} $$\n",
    "\n",
    "\n",
    "$$ z_{test} = \\frac{x_{test} - mean(x_{train})}{std(x_{train})} $$\n"
   ]
  },
  {
   "cell_type": "code",
   "execution_count": 39,
   "metadata": {},
   "outputs": [],
   "source": [
    "from sklearn.model_selection import train_test_split\n",
    "from sklearn import datasets\n",
    "import numpy as np\n",
    "dataset = datasets.load_breast_cancer()\n",
    "X, y = dataset.data, dataset.target"
   ]
  },
  {
   "cell_type": "markdown",
   "metadata": {},
   "source": [
    "## Personal notes\n",
    "\n",
    "datasets.load_breast_cancer() loads the breast cancer dataset, which is a built-in dataset in scikit-learn. The loaded dataset is a Bunch object, which is similar to a dictionary. It contains several attributes, including:\n",
    "- data: The feature matrix (2D array).\n",
    "- target: The target array (1D array).\n",
    "- feature_names: Names of the features.\n",
    "- target_names: Names of the target classes.\n",
    "- Additional metadata like DESCR (a description of the dataset).\n",
    "\n",
    "X, y = dataset.data, dataset.target extracts the feature matrix ('X') and the target array ('y').\n",
    "- 'X' is a 2D NumPy array where **each row represents a sample and each column represents a feature.**\n",
    "- 'y' is a 1D NumPy array where each element is the target label for the corresponding sample."
   ]
  },
  {
   "cell_type": "code",
   "execution_count": 18,
   "metadata": {},
   "outputs": [
    {
     "name": "stdout",
     "output_type": "stream",
     "text": [
      "['mean radius' 'mean texture' 'mean perimeter' 'mean area'\n",
      " 'mean smoothness' 'mean compactness' 'mean concavity'\n",
      " 'mean concave points' 'mean symmetry' 'mean fractal dimension'\n",
      " 'radius error' 'texture error' 'perimeter error' 'area error'\n",
      " 'smoothness error' 'compactness error' 'concavity error'\n",
      " 'concave points error' 'symmetry error' 'fractal dimension error'\n",
      " 'worst radius' 'worst texture' 'worst perimeter' 'worst area'\n",
      " 'worst smoothness' 'worst compactness' 'worst concavity'\n",
      " 'worst concave points' 'worst symmetry' 'worst fractal dimension']\n"
     ]
    }
   ],
   "source": [
    "print(dataset.feature_names)\n",
    "\n",
    "# NumPy is mostly numerical -> dataset without column names, they're stored in 'feature_names'"
   ]
  },
  {
   "cell_type": "markdown",
   "metadata": {},
   "source": [
    "### Personal Notes\n",
    "### Let's take a look at train_test_split\n",
    "\n",
    "#### Features and target\n",
    "Features : the characteristics used to predict something else\n",
    "Target : the thing we're trying to predict\n",
    "Convention is : **x = features, y = target**\n",
    "\n",
    "#### [Official documentation](https://scikit-learn.org/stable/modules/generated/sklearn.model_selection.train_test_split.html)\n",
    "sklearn.model_selection.train_test_split(*arrays, test_size, random_state, ...)\n",
    "\n",
    "INPUT\n",
    "- *arrays : this means the number of arrays passed can change (usually we write x,y). The \"\\*\" in Python function signatures usually refers to handling multiple arguments. We can put different types of data (lists, pandas DataFrames) but they will be treated as arrays. \n",
    "- test_size (and/or train_size)\n",
    "- random_state for reproductibility\n",
    "\n",
    "OUTPUT\n",
    "- list containing train-test split of inputs\n",
    "For each input array, train_test_split produce two arrays, one for training and one for testing.\n",
    "e.g. For x,y, we'll have 4 arrays in our output list : x_train, x_test, y_train, y_test.\n",
    "\n",
    "#### Python lists vs. NumPy arrays\n",
    "NumPy arrays are more efficient with large datasets : \n",
    "- specifically for numerical data,\n",
    "- only one type,\n",
    "- fixed in size (?),\n",
    "- can be multi-dimension,\n",
    "- NumPy provides mathematical functions.\n",
    "\n",
    "\n",
    "#### randint\n",
    "numpy.random.randint(low, high=None, size=None, dtype=int)"
   ]
  },
  {
   "cell_type": "code",
   "execution_count": null,
   "metadata": {},
   "outputs": [],
   "source": [
    "# Just for practice !!\n",
    "\n",
    "# We create a dictionary where the 2 first keys have 10 random values \n",
    "# (respectively between 1 and 9, and 10 and 19).\n",
    "# The last key (target) has 10 int values between 0 et 1.\n",
    "\n",
    "data_test = {\n",
    "    'feature1': np.random.randint(1, 10, 10),\n",
    "    'feature2': np.random.randint(10, 20, 10),\n",
    "    'target': np.random.randint(0, 2, 10)\n",
    "}\n",
    "df_test = pd.DataFrame(data_test)\n",
    "#print(df_test)\n",
    "\n",
    "X_train, X_test, y_train, y_test = train_test_split(df_test[[\"feature1\", \"feature2\"]], df_test[\"target\"])\n",
    "\n",
    "print(\"X_train:\")\n",
    "print(X_train)\n",
    "print(\"X_test:\")\n",
    "print(X_test)\n",
    "print(\"y_train:\")\n",
    "print(y_train)\n",
    "print(\"y_test:\")\n",
    "print(y_test)"
   ]
  },
  {
   "cell_type": "code",
   "execution_count": 42,
   "metadata": {},
   "outputs": [
    {
     "name": "stdout",
     "output_type": "stream",
     "text": [
      "(455, 30)\n",
      "(455,)\n"
     ]
    }
   ],
   "source": [
    "# Splitting data into train and test split\n",
    "X_train, X_test, y_train, y_test = train_test_split(X,y, random_state=41, test_size=0.2)\n",
    "print(X_train.shape)\n",
    "print(y_train.shape)"
   ]
  },
  {
   "cell_type": "markdown",
   "metadata": {},
   "source": [
    "Here, we'll want you to use numpy's mean and standard deviation functions to standardize each feature of the training and testing set. These are `np.mean()` and `np.std()`."
   ]
  },
  {
   "cell_type": "code",
   "execution_count": 43,
   "metadata": {},
   "outputs": [
    {
     "name": "stdout",
     "output_type": "stream",
     "text": [
      "0 mean radius\n",
      "1 mean texture\n",
      "2 mean perimeter\n",
      "3 mean area\n",
      "4 mean smoothness\n",
      "5 mean compactness\n",
      "6 mean concavity\n",
      "7 mean concave points\n",
      "8 mean symmetry\n",
      "9 mean fractal dimension\n",
      "10 radius error\n",
      "11 texture error\n",
      "12 perimeter error\n",
      "13 area error\n",
      "14 smoothness error\n",
      "15 compactness error\n",
      "16 concavity error\n",
      "17 concave points error\n",
      "18 symmetry error\n",
      "19 fractal dimension error\n",
      "20 worst radius\n",
      "21 worst texture\n",
      "22 worst perimeter\n",
      "23 worst area\n",
      "24 worst smoothness\n",
      "25 worst compactness\n",
      "26 worst concavity\n",
      "27 worst concave points\n",
      "28 worst symmetry\n",
      "29 worst fractal dimension\n"
     ]
    }
   ],
   "source": [
    "for idx, name in enumerate(dataset.feature_names):\n",
    "    print(idx, name)"
   ]
  },
  {
   "cell_type": "code",
   "execution_count": 48,
   "metadata": {},
   "outputs": [
    {
     "name": "stdout",
     "output_type": "stream",
     "text": [
      "Feature 'mean radius' has mean -0.00 and standard deviation 1.00\n",
      "Feature 'mean texture' has mean 0.00 and standard deviation 1.00\n",
      "Feature 'mean perimeter' has mean -0.00 and standard deviation 1.00\n",
      "Feature 'mean area' has mean -0.00 and standard deviation 1.00\n",
      "Feature 'mean smoothness' has mean -0.00 and standard deviation 1.00\n",
      "Feature 'mean compactness' has mean 0.00 and standard deviation 1.00\n",
      "Feature 'mean concavity' has mean -0.00 and standard deviation 1.00\n",
      "Feature 'mean concave points' has mean -0.00 and standard deviation 1.00\n",
      "Feature 'mean symmetry' has mean 0.00 and standard deviation 1.00\n",
      "Feature 'mean fractal dimension' has mean 0.00 and standard deviation 1.00\n",
      "Feature 'radius error' has mean -0.00 and standard deviation 1.00\n",
      "Feature 'texture error' has mean -0.00 and standard deviation 1.00\n",
      "Feature 'perimeter error' has mean -0.00 and standard deviation 1.00\n",
      "Feature 'area error' has mean 0.00 and standard deviation 1.00\n",
      "Feature 'smoothness error' has mean -0.00 and standard deviation 1.00\n",
      "Feature 'compactness error' has mean -0.00 and standard deviation 1.00\n",
      "Feature 'concavity error' has mean -0.00 and standard deviation 1.00\n",
      "Feature 'concave points error' has mean -0.00 and standard deviation 1.00\n",
      "Feature 'symmetry error' has mean 0.00 and standard deviation 1.00\n",
      "Feature 'fractal dimension error' has mean 0.00 and standard deviation 1.00\n",
      "Feature 'worst radius' has mean 0.00 and standard deviation 1.00\n",
      "Feature 'worst texture' has mean -0.00 and standard deviation 1.00\n",
      "Feature 'worst perimeter' has mean -0.00 and standard deviation 1.00\n",
      "Feature 'worst area' has mean -0.00 and standard deviation 1.00\n",
      "Feature 'worst smoothness' has mean 0.00 and standard deviation 1.00\n",
      "Feature 'worst compactness' has mean -0.00 and standard deviation 1.00\n",
      "Feature 'worst concavity' has mean 0.00 and standard deviation 1.00\n",
      "Feature 'worst concave points' has mean -0.00 and standard deviation 1.00\n",
      "Feature 'worst symmetry' has mean -0.00 and standard deviation 1.00\n",
      "Feature 'worst fractal dimension' has mean 0.00 and standard deviation 1.00\n"
     ]
    }
   ],
   "source": [
    "# Standardizing each feature using the train mean and standard deviation\n",
    "for idx, name in enumerate(dataset.feature_names): # this will give both index and name of each feature\n",
    "    # Get mean and standard deviation from training set (per feature)\n",
    "    mean = np.mean(X_train[:,idx]) # this will selects the column corresponding to the index and calculate its means\n",
    "    stdev = np.std(X_train[:,idx])\n",
    "    print(f\"Feature '{name}' has mean {mean:.2f} and standard deviation {stdev:.2f}\")\n",
    "    # Standardize training and testing set using the mean and standard deviation from the training set\n",
    "    X_train[:,idx] = (X_train[:,idx] - mean)/stdev\n",
    "    X_test[:,idx] = (X_test[:,idx] - mean)/stdev\n"
   ]
  },
  {
   "cell_type": "markdown",
   "metadata": {},
   "source": [
    "If you run the previous cell twice (without running the others cells again), you'll see that the second time, the mean and standard deviation for each feature will be 0 and 1 respectively, which is exactly what we want when we standardize (z-score normalization)."
   ]
  },
  {
   "cell_type": "markdown",
   "metadata": {},
   "source": [
    "## Resampling\n",
    "\n",
    "Sometimes, when you have multiple classes and the number of samples of each class are not equally distributed, i.e. there is an imbalance in the number of samples of each class, you can resort to resampling.\n",
    "Resampling is using more (or less) of a given class to get a balanced dataset.\n",
    "\n",
    "**BE CAREFUL**, resample **AFTER** splitting your data set into two parts. You do not want to accidentally have a copy of a testing sample in the training set.\n",
    "Moreover, **do not resample the testing set**. This would give a false sense of the performance of the model.\n"
   ]
  },
  {
   "cell_type": "code",
   "execution_count": 49,
   "metadata": {},
   "outputs": [],
   "source": [
    "\n",
    "import sklearn\n",
    "import numpy as np\n",
    "from sklearn import datasets\n",
    "\n",
    "dataset = datasets.load_breast_cancer()\n",
    "X, y = dataset.data, dataset.target"
   ]
  },
  {
   "cell_type": "markdown",
   "metadata": {},
   "source": [
    "First dimension : number of samples.\n",
    "Second dimension : number of featurd.\n",
    "\n",
    "'squeeze' deletes 1-dimension arrays, like an individual little box we would have put each sample in."
   ]
  },
  {
   "cell_type": "code",
   "execution_count": 57,
   "metadata": {},
   "outputs": [
    {
     "name": "stdout",
     "output_type": "stream",
     "text": [
      "Shape of class 0 samples:  (212, 30)\n",
      "Shape of class 1 samples:  (357, 30)\n"
     ]
    }
   ],
   "source": [
    "# We separate the samples of the different classes\n",
    "class_one_idx = np.argwhere(y==1) #np.argwhere trouve les indices des éléments tels que y==1\n",
    "class_zero_idx = np.argwhere(y==0)\n",
    "\n",
    "#np.squeeze retire les axes de longueur 1 de l'array spécifié\n",
    "#Si on fait : class_one_x = X[class_one_idx], class_one_x.shape -> (357,1,30)\n",
    "class_one_x = np.squeeze(X[class_one_idx]) \n",
    "class_zero_x = np.squeeze(X[class_zero_idx])\n",
    "\n",
    "print(\"Shape of class 0 samples: \", class_zero_x.shape)\n",
    "print(\"Shape of class 1 samples: \", class_one_x.shape)"
   ]
  },
  {
   "cell_type": "markdown",
   "metadata": {},
   "source": [
    "You see that we have 212 samples of class 0 and 357 samples of class 1.\n",
    "We can either upsample, i.e. take more samples of, the minority class (here class 0) or we can downsample, i.e. take fewer samples of, the majority class (here class 1).\n",
    "To do this, we first have to separate the samples of each class."
   ]
  },
  {
   "cell_type": "code",
   "execution_count": 59,
   "metadata": {},
   "outputs": [
    {
     "name": "stdout",
     "output_type": "stream",
     "text": [
      "New shape of class 0 samples:  (357, 30)\n",
      "New shape of class 1 samples:  (212, 30)\n"
     ]
    }
   ],
   "source": [
    "from sklearn.utils import resample\n",
    "\n",
    "# Upsample minority class\n",
    "class_zero_upsampled = resample(class_zero_x, \n",
    "                                 replace=True,     # sample with replacement\n",
    "                                 n_samples=357,    # to match majority class\n",
    "                                 random_state=123) # reproducible results\n",
    "\n",
    "print(\"New shape of class 0 samples: \",class_zero_upsampled.shape)\n",
    "\n",
    "# Downsample majority class\n",
    "class_one_downsampled = resample(class_one_x, \n",
    "                                 replace=True,     # sample with replacement\n",
    "                                 n_samples=212,    # to match minority class\n",
    "                                 random_state=123) # reproducible results\n",
    "\n",
    "print(\"New shape of class 1 samples: \",class_one_downsampled.shape)"
   ]
  },
  {
   "cell_type": "markdown",
   "metadata": {},
   "source": [
    "After having either upsampled our minority class, or downsampled our majority class, we can combine the upsampled with the majority class or the downsampled with the minority class to have a balanced data set.\n",
    "\n",
    "Which one you use depends on what you want to do, and which one does best."
   ]
  },
  {
   "cell_type": "code",
   "execution_count": 60,
   "metadata": {},
   "outputs": [
    {
     "name": "stdout",
     "output_type": "stream",
     "text": [
      "(Upsampled) Balanced data set shape:  (714, 30)\n",
      "(Downsampled) Balanced data set shape:  (424, 30)\n"
     ]
    }
   ],
   "source": [
    "X_balanced = np.concatenate((class_zero_upsampled, class_one_x), axis=0)\n",
    "print(\"(Upsampled) Balanced data set shape: \", X_balanced.shape)\n",
    "\n",
    "X_balanced = np.concatenate((class_one_downsampled, class_zero_x), axis=0)\n",
    "print(\"(Downsampled) Balanced data set shape: \", X_balanced.shape)"
   ]
  },
  {
   "cell_type": "markdown",
   "metadata": {},
   "source": [
    "## Reading material and additional ressources\n",
    "\n",
    "[[1] Feature Engineering - Elite Data Science](https://elitedatascience.com/feature-engineering)  \n",
    "[[2] Feature Engineering - Towards Data Science](https://towardsdatascience.com/feature-engineering-for-machine-learning-3a5e293a5114)  \n",
    "[[3] Feature Engineering Tutorial - Kaggle](https://towardsdatascience.com/feature-engineering-for-machine-learning-3a5e293a5114)  \n",
    "[[4] LabelBinarizer - scikit-learn](https://scikit-learn.org/stable/modules/generated/sklearn.preprocessing.LabelEncoder.html)  \n",
    "[[5] OneHotEncoder - scikit-learn](https://scikit-learn.org/stable/modules/generated/sklearn.preprocessing.OneHotEncoder.html)  \n",
    "[[6] Zscore - Simply Psychology](https://www.simplypsychology.org/z-score.html)  \n",
    "[[7] Normalize data - Microsoft Azure](https://docs.microsoft.com/en-us/azure/machine-learning/studio-module-reference/normalize-data)  \n",
    "[[8] How to handle imbalanced classes - Elite Data Science ](https://elitedatascience.com/imbalanced-classes)"
   ]
  }
 ],
 "metadata": {
  "interpreter": {
   "hash": "6922277e53701330cd18f9c625d32c99c01f722fe74997b870ac987017115c44"
  },
  "kernelspec": {
   "display_name": "Python 3.8.8 64-bit ('base': conda)",
   "name": "python3"
  },
  "language_info": {
   "codemirror_mode": {
    "name": "ipython",
    "version": 3
   },
   "file_extension": ".py",
   "mimetype": "text/x-python",
   "name": "python",
   "nbconvert_exporter": "python",
   "pygments_lexer": "ipython3",
   "version": "3.12.3"
  }
 },
 "nbformat": 4,
 "nbformat_minor": 4
}
